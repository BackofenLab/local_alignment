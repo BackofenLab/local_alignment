{
 "cells": [
  {
   "cell_type": "markdown",
   "metadata": {},
   "source": [
    "# Invatigate sequence-structure alignment scores (expacted alignment scores) of random sequences\n",
    "### This notebook investigates the locarna scores and its distriburtion. In local alignment statistics two basic assumption for the scoring system are made: (1) expacted score should be negativ (2) at least one score is positiv. The first assumption is fundametal for not wrongly rewording longer alignments. If the score of two positiv sequences would also be (expated) positiv longer alignments would be preferd even the aligned parts are not bologicaly meaningfull. \n",
    "### By considering also a structure score in a scoring system of a alignment positive scores even between not bologically not meaningfull sequences could accure. Small structural elements occure quite fequently also in random sequences, which would lead to a positiv score contribution for random sequences.\n",
    "### LocARNA score:"
   ]
  },
  {
   "cell_type": "code",
   "execution_count": 1,
   "metadata": {},
   "outputs": [
    {
     "data": {
      "text/latex": [
       "$$\\sum_{(ij;kl)\\in S} s.w. \\Psi_{ij}^{A} \\Psi_{kl}^{B} + \\sum_{(ij;kl)\\in S} t.f. (\\sigma(A_{i}, B_{k}) + \\sigma(A_{j}, B_{l}) )+ \\sum_{(i,k)\\in A_{s}} \\sigma(A_{i}, B_{k}) - N_{gap} \\gamma - N_{gap}^{o} \\beta$$"
      ],
      "text/plain": [
       "<IPython.core.display.Math object>"
      ]
     },
     "metadata": {},
     "output_type": "display_data"
    }
   ],
   "source": [
    "from IPython.display import display, Math, Latex\n",
    "display(Math( '\\sum_{(ij;kl)\\in S} s.w. \\Psi_{ij}^{A} \\Psi_{kl}^{B} + \\sum_{(ij;kl)\\in S} t.f. (\\sigma(A_{i}, B_{k}) + \\sigma(A_{j}, B_{l}) )+ \\sum_{(i,k)\\in A_{s}} \\sigma(A_{i}, B_{k}) - N_{gap} \\gamma - N_{gap}^{o} \\\\beta'))"
   ]
  },
  {
   "cell_type": "code",
   "execution_count": 2,
   "metadata": {},
   "outputs": [],
   "source": [
    "import pandas as pd\n",
    "import numpy as np\n",
    "import matplotlib.pyplot as plt\n",
    "import seaborn as sns"
   ]
  },
  {
   "cell_type": "markdown",
   "metadata": {},
   "source": [
    "## Functions"
   ]
  },
  {
   "cell_type": "code",
   "execution_count": 3,
   "metadata": {},
   "outputs": [],
   "source": [
    "# read Bralibase input that contains several runs of one parameter that was alternated\n",
    "def read_file_to_df(infile):\n",
    "    \n",
    "    #flags:\n",
    "    set_paramerter = 0\n",
    "    read_file = 0\n",
    "    flag_header = 1\n",
    "\n",
    "    sw_parameter = ''\n",
    "    df_dict ={}\n",
    "\n",
    "\n",
    "    f = open(infile, 'r') # open the file for reading\n",
    "    data = []\n",
    "    for row_num, line in enumerate(f):\n",
    "        # Remove the new line at the end and then split the string based on\n",
    "        # tabs. This creates a python list of the values.\n",
    "        values = line.strip().split('\\t')\n",
    "        # print values\n",
    "\n",
    "        if flag_header == 1:\n",
    "            header = values\n",
    "            flag_header = 0\n",
    "            continue\n",
    "        else: \n",
    "            value_line = values\n",
    "\n",
    "\n",
    "\n",
    "    f.close() # close the file\n",
    "    \n",
    "    return df_dict"
   ]
  },
  {
   "cell_type": "code",
   "execution_count": 4,
   "metadata": {},
   "outputs": [],
   "source": [
    "def select_parts_of_df(df_in, identifier):\n",
    "    df = pd.concat([df_in['mlocarnaCall'], df_in['APSI'], df_in['locarnascore'], df_in['sum_seq_length'], df_in['structureWeight'], df_in['SPS'], df_in['name']], axis=1, keys=['mlocarnaCall', 'APSI', 'locarnascore', 'sum_seq_length', 'structureWeight', 'SPS', 'name'])\n",
    "    df['seq'] = identifier\n",
    "    return df\n",
    "\n",
    "\n",
    "\n",
    "def generate_one_df(df, df_shuffled, id_df='ncRNA', id_df_shuffled='shuffled_RNA'):\n",
    "    \n",
    "    df_allseq_unshuffled = select_parts_of_df(df, id_df)\n",
    "    df_allseq_shuffled = select_parts_of_df(df_shuffled, id_df_shuffled)\n",
    "    \n",
    "    frames = [df_allseq_shuffled, df_allseq_unshuffled]\n",
    "    df_shuffled_and_unshuffled = pd.concat(frames)\n",
    "    \n",
    "    return df_shuffled_and_unshuffled"
   ]
  },
  {
   "cell_type": "code",
   "execution_count": 5,
   "metadata": {},
   "outputs": [],
   "source": [
    "# Cast values:\n",
    "def convert_str_in_df(df, param, col_typ='int'):\n",
    "    #df_colum.astype(col_typ)\n",
    "    # print col_typ\n",
    "    #df_globale_sw['APSI'] = df_globale_sw['APSI'].astype('int')\n",
    "    df[param] = df[param].astype(col_typ)\n",
    "    # df.info()\n",
    "    #df_colum = df_colum.astype(col_typ)\n",
    "    #print 'chaged '\n",
    "    return df"
   ]
  },
  {
   "cell_type": "code",
   "execution_count": 6,
   "metadata": {},
   "outputs": [],
   "source": [
    "def read_data(file_path):\n",
    "    df_globale_sw_raw = pd.read_table(file_path, sep='\\t')\n",
    "    \n",
    "    # delet from all lines inbetween \n",
    "    df_globale_sw = df_globale_sw_raw.drop(df_globale_sw_raw[df_globale_sw_raw['SPS'] == 'SPS'].index)\n",
    "    \n",
    "    #df_globale_sw.info()\n",
    "    \n",
    "    \n",
    "    df_globale_sw = convert_str_in_df(df_globale_sw, 'APSI', 'int')\n",
    "    df_globale_sw = convert_str_in_df(df_globale_sw, 'SPS', 'float')\n",
    "    df_globale_sw = convert_str_in_df(df_globale_sw, 'locarnascore', 'float')\n",
    "    df_globale_sw = convert_str_in_df(df_globale_sw, 'sum_seq_length', 'float')\n",
    "    df_globale_sw = convert_str_in_df(df_globale_sw, 'structureWeight', 'int')\n",
    "    df_globale_sw = convert_str_in_df(df_globale_sw, 'name', 'str')\n",
    "\n",
    "    \n",
    "    # df_globale_sw.info()\n",
    "    \n",
    "    return df_globale_sw\n"
   ]
  },
  {
   "cell_type": "code",
   "execution_count": 7,
   "metadata": {},
   "outputs": [],
   "source": [
    "def length_diff_subset_df(df, start, end):\n",
    "    df_subset = length_distibution_df[(length_distibution_df['length_diff'] >= start) & (length_distibution_df['length_diff'] < end)]\n",
    "    df_grouped = df_subset.groupby(['length_diff']).size().reset_index(name='counts')\n",
    "    return df_grouped\n",
    "    "
   ]
  },
  {
   "cell_type": "markdown",
   "metadata": {},
   "source": [
    "## Information about the Data\n",
    "### The Dataset of this are the Bralibase k2 fasta alignment files. For the locarna call LocARNA version 2.0._R6  was used. LocaRNA was called in the global mode to allow the score to also take negativ values. The first dataset is k2 Bralibase is constructed by denucleodide shuffeling of the sequences contained. This sequences where shuffled by the fasta-shuffle-letters tool of the meme suite. The second dataset are artifical dataset of sequence length 100 and a equal nucleotide distribution. \n",
    "\n"
   ]
  },
  {
   "cell_type": "markdown",
   "metadata": {},
   "source": [
    "## Load data"
   ]
  },
  {
   "cell_type": "code",
   "execution_count": 8,
   "metadata": {},
   "outputs": [],
   "source": [
    "# artifical datasets:\n",
    "in_file_artifical_seq_sw_0_400 = '/home/muellert/Dokumente/locarna_parameteropt/Data/20180919_global_SW_0_400_step_50_artifical/20180918_artifical_SW_0_400_step_50_seq_struc.log'\n",
    "in_file_artifical_seq_seq_only_sw_0_400 = '/home/muellert/Dokumente/locarna_parameteropt/Data/20180919_global_SW_0_400_step_50_artifical/20180918_artifical_SW_0_400_step_50_seq_only.log'\n",
    "\n"
   ]
  },
  {
   "cell_type": "code",
   "execution_count": 9,
   "metadata": {},
   "outputs": [],
   "source": [
    "# 'new' bralibase with SW 0 - 400\n",
    "in_file_shuffled_sw0_400struc_off = '/home/muellert/Dokumente/locarna_parameteropt/Data/20181017_global_k2_SW_0_400/20181016_global_shuffledk2_SW_0_400_p1.log'\n",
    "in_file_shuffled_sw0_400 = '/home/muellert/Dokumente/locarna_parameteropt/Data/20181017_global_k2_SW_0_400/20181016_global_shuffledk2_SW_0_400_p0_0005.log'\n",
    "in_file_ncRNA__sw0_400 = '/home/muellert/Dokumente/locarna_parameteropt/Data/20181017_global_k2_SW_0_400/20181017_global_k2_SW_0_400_p0_0005_new_run.log'"
   ]
  },
  {
   "cell_type": "code",
   "execution_count": null,
   "metadata": {},
   "outputs": [],
   "source": [
    "# plot dir:\n",
    "plot_dir_paper = '/home/muellert/Dokumente/locarna_parameteropt/plots/20181031_plots_for_paper/'"
   ]
  },
  {
   "cell_type": "markdown",
   "metadata": {},
   "source": [
    "## Construct dataframes"
   ]
  },
  {
   "cell_type": "code",
   "execution_count": 10,
   "metadata": {},
   "outputs": [],
   "source": [
    "df_globale_ncRNA_sw0_400 = read_data(in_file_ncRNA__sw0_400)\n",
    "df_globale_shuffled_sw0_400 = read_data(in_file_shuffled_sw0_400)\n",
    "df_globale_shuffled_struc_off_sw0_400 = read_data(in_file_shuffled_sw0_400struc_off)\n",
    "\n",
    "df_allseq_ncRNA_sw0_400 = select_parts_of_df(df_globale_ncRNA_sw0_400, 'ncRNAs')\n",
    "df_allseq_shuffled_sw0_400 = select_parts_of_df(df_globale_shuffled_sw0_400, 'Shuffled ncRNAs')\n",
    "df_allseq_shuffled_seq_only_sw0_400 = select_parts_of_df(df_globale_shuffled_struc_off_sw0_400, 'Shuffled and sequence only')\n",
    "\n",
    "    \n",
    "frames = [ df_allseq_shuffled_seq_only_sw0_400, df_allseq_shuffled_sw0_400, df_allseq_ncRNA_sw0_400]\n",
    "df_shuffled_and_unshuffled_seq_only_bralibase_sw0_400 = pd.concat(frames)\n",
    "\n",
    "df_shuffled_and_unshuffled_seq_only_bralibase_sw0_400['norm_score'] = df_shuffled_and_unshuffled_seq_only_bralibase_sw0_400['locarnascore']/df_shuffled_and_unshuffled_seq_only_bralibase_sw0_400['sum_seq_length']\n",
    "\n"
   ]
  },
  {
   "cell_type": "code",
   "execution_count": 11,
   "metadata": {},
   "outputs": [
    {
     "name": "stdout",
     "output_type": "stream",
     "text": [
      "<class 'pandas.core.frame.DataFrame'>\n",
      "Int64Index: 126000 entries, 0 to 63007\n",
      "Data columns (total 9 columns):\n",
      "mlocarnaCall       126000 non-null object\n",
      "APSI               126000 non-null int64\n",
      "locarnascore       126000 non-null float64\n",
      "sum_seq_length     126000 non-null float64\n",
      "structureWeight    126000 non-null int64\n",
      "SPS                126000 non-null float64\n",
      "name               126000 non-null object\n",
      "seq                126000 non-null object\n",
      "norm_score         126000 non-null float64\n",
      "dtypes: float64(4), int64(2), object(3)\n",
      "memory usage: 9.6+ MB\n"
     ]
    }
   ],
   "source": [
    "df_global_sw_artifical_seq_sw_0_400 = read_data(in_file_artifical_seq_sw_0_400)\n",
    "df_global_sw_artifical_seq_seq_only_sw_0_400 = read_data(in_file_artifical_seq_seq_only_sw_0_400)\n",
    "# concatinate both files\n",
    "df_artifical_seq_seqstruc_and_seqonly_sw_0_400 = generate_one_df(df_global_sw_artifical_seq_sw_0_400, df_global_sw_artifical_seq_seq_only_sw_0_400, id_df='Random ncRNAs', id_df_shuffled='Sequence only')\n",
    "\n",
    "df_artifical_seq_seqstruc_and_seqonly_sw_0_400['norm_score'] = df_artifical_seq_seqstruc_and_seqonly_sw_0_400['locarnascore']/df_artifical_seq_seqstruc_and_seqonly_sw_0_400['sum_seq_length']\n",
    "\n",
    "df_artifical_seq_seqstruc_and_seqonly_sw_0_400.info()"
   ]
  },
  {
   "cell_type": "code",
   "execution_count": 12,
   "metadata": {},
   "outputs": [
    {
     "data": {
      "image/png": "[encoded data removed]",
      "text/plain": [
       "<Figure size 259.2x172.8 with 1 Axes>"
      ]
     },
     "metadata": {},
     "output_type": "display_data"
    }
   ],
   "source": [
    "%matplotlib inline\n",
    "import matplotlib.pyplot as plt\n",
    "import seaborn as sns\n",
    "sns.set(style=\"whitegrid\", font='sans-serif', font_scale=0.8)\n",
    "col_dims = (3.6, 2.4) # one\n",
    "\n",
    "fig, ax = plt.subplots(figsize=col_dims)\n",
    "  \n",
    "sns.pointplot(x=\"structureWeight\", y=\"norm_score\",  hue=\"seq\", data=df_artifical_seq_seqstruc_and_seqonly_sw_0_400, ax=ax)\n",
    "\n",
    "#ax1.set_title('LocARNA score for full BRALiBase')\n",
    "ax.set_xlabel('Structure weight')\n",
    "ax.set_ylabel('Normalized LocARNA score')\n",
    "# ax.set_ylim([-40,40])\n",
    "l = ax.legend()\n",
    "l.set_title('')\n",
    "\n",
    "\n",
    "\n",
    "\n",
    "\n",
    "\n",
    "plot_dir_fist_plot = '/home/muellert/Dokumente/locarna_parameteropt/plots/20180906_alignment_score_random_seq/'\n",
    "\n",
    "fig.savefig(plot_dir_fist_plot + 'poster_lineplot_global_normScore_vs_SW_locarnaV2_0RC6_artifical_dataset.pdf', format='pdf', bbox_inches='tight')\n",
    "\n",
    "fig.savefig(plot_dir_paper + 'lineplot_global_normScore_vs_SW_locarnaV2_0RC6_artifical_dataset_SW0_400.pdf', format='pdf', bbox_inches='tight',)\n",
    "\n"
   ]
  },
  {
   "cell_type": "code",
   "execution_count": 13,
   "metadata": {},
   "outputs": [],
   "source": [
    "#df = df_artifical_seq_seqstruc_and_seqonly_sw_0_400[df_artifical_seq_seqstruc_and_seqonly_sw_0_400.seq == 'LocARNA']\n",
    "#df"
   ]
  },
  {
   "cell_type": "code",
   "execution_count": 14,
   "metadata": {},
   "outputs": [
    {
     "data": {
      "image/png": "[encoded data removed]",
      "text/plain": [
       "<Figure size 259.2x172.8 with 1 Axes>"
      ]
     },
     "metadata": {},
     "output_type": "display_data"
    }
   ],
   "source": [
    "%matplotlib inline\n",
    "import matplotlib.pyplot as plt\n",
    "import seaborn as sns\n",
    "sns.set(style=\"whitegrid\", font='sans-serif', font_scale=0.8)\n",
    "col_dims = (3.6, 2.4) # one\n",
    "\n",
    "fig, ax = plt.subplots(figsize=col_dims)\n",
    "#sns.set_palette(sns.color_palette()[])\n",
    "myblue = (sns.color_palette().as_hex())[0]\n",
    "#pointplot(...color=mygreen)\n",
    "sns.pointplot(x=\"structureWeight\", y=\"norm_score\", hue=\"seq\", data=df_artifical_seq_seqstruc_and_seqonly_sw_0_400[df_artifical_seq_seqstruc_and_seqonly_sw_0_400.seq == 'Random ncRNAs'], \n",
    "            ax=ax, ci='sd', estimator=np.median, errwidth=1.8, scale=0.8, markers=['s'])\n",
    "#color=mygreen,\n",
    "\n",
    "sns.pointplot(x=\"structureWeight\", y=\"norm_score\",  data=df_artifical_seq_seqstruc_and_seqonly_sw_0_400[df_artifical_seq_seqstruc_and_seqonly_sw_0_400.seq == 'Sequence only'], \n",
    "              ax=ax, color=myblue, estimator=np.median,  markers='', linestyles=[':'], ci='sd', errwidth=0)\n",
    "\n",
    "\n",
    "#ax1.set_title('LocARNA score for full BRALiBase')\n",
    "ax.set_xlabel('Structure weight')\n",
    "ax.set_ylabel('Normalized LocARNA score')\n",
    "# ax.set_ylim([-40,40])\n",
    "#l = ax.legend()\n",
    "l.set_title('')\n",
    "ax.set_ylim([-30,25])\n",
    "\n",
    "\n",
    "\n",
    "\n",
    "fig.savefig('/home/muellert/Dokumente/locarna_parameteropt/plots/20190214_lineplots_to_boxplot/lineplot_artifical_alignment_expacted_score.pdf', format='pdf', dpi=300, bbox_inches='tight')\n"
   ]
  },
  {
   "cell_type": "code",
   "execution_count": 15,
   "metadata": {},
   "outputs": [
    {
     "data": {
      "text/plain": [
       "[(0.29803921568627451, 0.44705882352941179, 0.69019607843137254),\n",
       " (0.33333333333333331, 0.6588235294117647, 0.40784313725490196),\n",
       " (0.7686274509803922, 0.30588235294117649, 0.32156862745098042),\n",
       " (0.50588235294117645, 0.44705882352941179, 0.69803921568627447),\n",
       " (0.80000000000000004, 0.72549019607843135, 0.45490196078431372),\n",
       " (0.39215686274509803, 0.70980392156862748, 0.80392156862745101)]"
      ]
     },
     "execution_count": 15,
     "metadata": {},
     "output_type": "execute_result"
    }
   ],
   "source": [
    "sns.color_palette()"
   ]
  },
  {
   "cell_type": "code",
   "execution_count": 16,
   "metadata": {},
   "outputs": [
    {
     "data": {
      "image/png": "[encoded data removed]",
      "text/plain": [
       "<Figure size 259.2x172.8 with 1 Axes>"
      ]
     },
     "metadata": {},
     "output_type": "display_data"
    }
   ],
   "source": [
    "%matplotlib inline\n",
    "import matplotlib.pyplot as plt\n",
    "import seaborn as sns\n",
    "sns.set(style=\"whitegrid\", font='sans-serif', font_scale=0.8)\n",
    "col_dims = (3.6, 2.4) # one\n",
    "\n",
    "fig, ax = plt.subplots(figsize=col_dims)\n",
    "\n",
    "  \n",
    "sns.pointplot(x=\"structureWeight\", y=\"norm_score\",  hue=\"seq\", data=df_shuffled_and_unshuffled_seq_only_bralibase_sw0_400, ax=ax) #, estimator=np.median, ci=43)\n",
    "\n",
    "\n",
    "#ax1.set_title('LocARNA score for full BRALiBase')\n",
    "ax.set_xlabel('Structure weight')\n",
    "ax.set_ylabel('Normalized LocARNA score')\n",
    "#ax.set_ylim([-40,40])\n",
    "l = ax.legend()\n",
    "l.set_title('')\n",
    "\n",
    "fig.savefig(plot_dir_paper + 'lineplot_global_normScore_vs_SW_locarnaV2_0RC6_FULLBralibase_SW0_400.pdf', format='pdf', bbox_inches='tight',)\n",
    "\n"
   ]
  },
  {
   "cell_type": "code",
   "execution_count": 17,
   "metadata": {},
   "outputs": [
    {
     "data": {
      "image/png": "[encoded data removed]",
      "text/plain": [
       "<Figure size 259.2x172.8 with 1 Axes>"
      ]
     },
     "metadata": {},
     "output_type": "display_data"
    }
   ],
   "source": [
    "%matplotlib inline\n",
    "import matplotlib.pyplot as plt\n",
    "import seaborn as sns\n",
    "sns.set(style=\"whitegrid\", font='sans-serif', font_scale=0.8)\n",
    "col_dims = (3.6, 2.4) # one\n",
    "\n",
    "fig, ax = plt.subplots(figsize=col_dims)\n",
    "\n",
    "  \n",
    "sns.pointplot(x=\"structureWeight\", y=\"norm_score\",  hue=\"seq\", data=df_shuffled_and_unshuffled_seq_only_bralibase_sw0_400, ax=ax,  ci=99, errwidth=10, capsize=.2)\n",
    "\n",
    "\n",
    "#ax1.set_title('LocARNA score for full BRALiBase')\n",
    "ax.set_xlabel('Structure weight')\n",
    "ax.set_ylabel('Normalized LocARNA score')\n",
    "#ax.set_ylim([-40,40])\n",
    "l = ax.legend()\n",
    "l.set_title('')\n",
    "ax.legend_.remove()\n",
    "\n",
    "fig.savefig('/home/muellert/Dokumente/locarna_parameteropt/plots/20190130_plots_for_beld_talk/lineplot_alignment_expacted_score.png', format='png', dpi=300, bbox_inches='tight')\n"
   ]
  },
  {
   "cell_type": "code",
   "execution_count": 18,
   "metadata": {},
   "outputs": [
    {
     "data": {
      "image/png": "[encoded data removed]",
      "text/plain": [
       "<Figure size 475.2x316.8 with 1 Axes>"
      ]
     },
     "metadata": {},
     "output_type": "display_data"
    }
   ],
   "source": [
    "#sns.barplot(x=\"day\", y=\"total_bill\", hue=\"sex\", data=tips)\n",
    "%matplotlib inline\n",
    "import matplotlib.pyplot as plt\n",
    "import seaborn as sns\n",
    "sns.set(style=\"whitegrid\", font='sans-serif', font_scale=0.8)\n",
    "col_dims = (6.6, 4.4) # one\n",
    "\n",
    "fig, ax = plt.subplots(figsize=col_dims)\n",
    "\n",
    "  \n",
    "sns.barplot(x=\"structureWeight\", y=\"norm_score\",  hue=\"seq\", data=df_shuffled_and_unshuffled_seq_only_bralibase_sw0_400, ax=ax)\n",
    "\n",
    "\n",
    "#ax1.set_title('LocARNA score for full BRALiBase')\n",
    "ax.set_xlabel('Structure weight')\n",
    "ax.set_ylabel('Normalized LocARNA score')\n",
    "#ax.set_ylim([-40,40])\n",
    "l = ax.legend()\n",
    "l.set_title('')\n",
    "ax.legend_.remove()\n",
    "\n",
    "fig.savefig('/home/muellert/Dokumente/locarna_parameteropt/plots/20190130_plots_for_beld_talk/lineplot_alignment_expacted_score.png', format='png', dpi=300, bbox_inches='tight')\n"
   ]
  },
  {
   "cell_type": "code",
   "execution_count": 19,
   "metadata": {},
   "outputs": [],
   "source": [
    "df_baseline = df_shuffled_and_unshuffled_seq_only_bralibase_sw0_400[df_shuffled_and_unshuffled_seq_only_bralibase_sw0_400.seq == 'Shuffled and sequence only']\n",
    "\n",
    "df_compare = df_shuffled_and_unshuffled_seq_only_bralibase_sw0_400[df_shuffled_and_unshuffled_seq_only_bralibase_sw0_400.seq != 'Shuffled and sequence only']\n"
   ]
  },
  {
   "cell_type": "code",
   "execution_count": 20,
   "metadata": {},
   "outputs": [
    {
     "data": {
      "image/png": "[encoded data removed]",
      "text/plain": [
       "<Figure size 259.2x172.8 with 1 Axes>"
      ]
     },
     "metadata": {},
     "output_type": "display_data"
    }
   ],
   "source": [
    "%matplotlib inline\n",
    "import matplotlib.pyplot as plt\n",
    "import matplotlib\n",
    "import seaborn as sns\n",
    "sns.set(style=\"whitegrid\", font='sans-serif', font_scale=0.8) #, palette=\"muted\")\n",
    "col_dims = (3.6, 2.4) # one\n",
    "\n",
    "#matplotlib.rcParams['lines.markeredgewidth'] = 1\n",
    "\n",
    "#sns.palplot(sns.color_palette(\"Blues\"))\n",
    "current_palette = sns.color_palette(\"Blues\")\n",
    "# sns.palplot(sns.color_palette(\"Set2\"))\n",
    "\n",
    "fig, ax = plt.subplots(figsize=col_dims)\n",
    "myblue = (sns.color_palette().as_hex())[0]\n",
    "\n",
    "\n",
    "sns.pointplot(x=\"structureWeight\", y=\"norm_score\",  hue=\"seq\", data=df_compare, dodge= 0.00, scale=0.8,  \n",
    "              estimator=np.median, ax=ax, ci='sd', errwidth=1.8, markers=['s', 'x'])\n",
    "#sns.pointplot(x=\"structureWeight\", y=\"norm_score\",  hue=\"seq\", data=df_compare, dodge= 0.00, scale=0.6,  \n",
    "#              estimator=np.median, ax=ax, ci='sd', errwidth=0, markers=['o', 'D'], color='white', join=False)#, color='black')\n",
    "  \n",
    "\n",
    "sns.pointplot(x=\"structureWeight\", y=\"norm_score\",  data=df_baseline, ax=ax, color=myblue,  markers='', \n",
    "              linestyles=[':'], alpha=1, ci='sd', errwidth=0) #, ci='sd'\n",
    "#palette=sns.color_palette([\"\"])\n",
    "# , estimator=df.norm_score.mean()\n",
    "ax.set_xlabel('Structure weight')\n",
    "ax.set_ylabel('Normalized LocARNA score')\n",
    "#ax.set_ylim([-100,200])\n",
    "l = ax.legend()\n",
    "l.set_title('')\n",
    "\n",
    "# (line1, line2, line3), ('label1', 'label2', 'label3')\n",
    "#matplotlib.rcParams['lines.markeredgewidth'] = 1\n",
    "\n",
    "#ax.legend_.remove()\n",
    "fig.savefig('/home/muellert/Dokumente/locarna_parameteropt/plots/20190214_lineplots_to_boxplot/lineplot_bralibase_alignment_expacted_score.pdf', format='pdf', dpi=300, bbox_inches='tight')\n",
    "\n",
    "# palette=dict(setosa = 'g', versicolor = 'b', virginica = 'r')"
   ]
  },
  {
   "cell_type": "code",
   "execution_count": 21,
   "metadata": {},
   "outputs": [],
   "source": [
    "#ax.legend??"
   ]
  },
  {
   "cell_type": "code",
   "execution_count": 22,
   "metadata": {},
   "outputs": [],
   "source": [
    "# df_shuffled_and_unshuffled_seq_only_bralibase_sw0_400[df_shuffled_and_unshuffled_seq_only_bralibase_sw0_400.seq != 'Shuffled and sequence only']\n",
    "#df.norm_score.mean()\n"
   ]
  },
  {
   "cell_type": "code",
   "execution_count": 23,
   "metadata": {},
   "outputs": [
    {
     "ename": "NameError",
     "evalue": "name 'df2' is not defined",
     "output_type": "error",
     "traceback": [
      "\u001b[0;31m---------------------------------------------------------------------------\u001b[0m",
      "\u001b[0;31mNameError\u001b[0m                                 Traceback (most recent call last)",
      "\u001b[0;32m<ipython-input-23-bf54f28a783a>\u001b[0m in \u001b[0;36m<module>\u001b[0;34m()\u001b[0m\n\u001b[0;32m----> 1\u001b[0;31m \u001b[0mdf2\u001b[0m\u001b[0;34m\u001b[0m\u001b[0m\n\u001b[0m\u001b[1;32m      2\u001b[0m \u001b[0;34m\u001b[0m\u001b[0m\n",
      "\u001b[0;31mNameError\u001b[0m: name 'df2' is not defined"
     ]
    }
   ],
   "source": [
    "df2\n",
    "\n"
   ]
  },
  {
   "cell_type": "code",
   "execution_count": null,
   "metadata": {},
   "outputs": [],
   "source": [
    "df2 = df_shuffled_and_unshuffled_seq_only_bralibase_sw0_400[df_shuffled_and_unshuffled_seq_only_bralibase_sw0_400.seq == 'Shuffled' and df_shuffled_and_unshuffled_seq_only_bralibase_sw0_400.structureWeight =='0']\n"
   ]
  },
  {
   "cell_type": "code",
   "execution_count": null,
   "metadata": {},
   "outputs": [],
   "source": [
    "df3 = df2[df2.structureWeight ==0]\n",
    "\n",
    "df3.norm_score.mean()\n"
   ]
  },
  {
   "cell_type": "code",
   "execution_count": null,
   "metadata": {},
   "outputs": [],
   "source": [
    "df3.norm_score.median()\n"
   ]
  },
  {
   "cell_type": "code",
   "execution_count": null,
   "metadata": {},
   "outputs": [],
   "source": [
    "%matplotlib inline\n",
    "import matplotlib.pyplot as plt\n",
    "import seaborn as sns\n",
    "sns.set(style=\"whitegrid\")\n",
    "sns.set_context(\"paper\")\n",
    "\n",
    "fig, (ax1,ax2) = plt.subplots(1,2, figsize=(7,4))\n",
    "\n",
    "  \n",
    "sns.pointplot(x=\"structureWeight\", y=\"norm_score\",  hue=\"seq\", data=df_shuffled_and_unshuffled_seq_only_bralibase_sw0_400, ax=ax1)\n",
    "\n",
    "\n",
    "#ax1.set_title('LocARNA score for full BRALiBase')\n",
    "ax1.set_xlabel('structure weight')\n",
    "ax1.set_ylabel('normalized LocARNA score')\n",
    "ax1.set_ylim([-40,90])\n",
    "l1 = ax1.legend()\n",
    "l1.set_title('')\n",
    "\n",
    "sns.pointplot(x=\"structureWeight\", y=\"norm_score\",  hue=\"seq\", data=df_artifical_seq_seqstruc_and_seqonly_sw_0_400, ax=ax2)\n",
    "\n",
    "\n",
    "\n",
    "#ax2.set_title('LocARNA score for artifical dataset')\n",
    "ax2.set_xlabel('structure weight')\n",
    "ax2.set_ylabel('')\n",
    "ax2.set_ylim([-40,90])\n",
    "l2 = ax2.legend()\n",
    "l2.set_title('')\n",
    "\n",
    "plot_dir_fist_plot = '/home/muellert/Dokumente/locarna_parameteropt/plots/20180906_alignment_score_random_seq/'\n",
    "\n",
    "fig.savefig(plot_dir_paper + 'lineplot_global_normScore_vs_SW_locarnaV2_0RC6_combine_FULLBralibase_artifical_dataset_SW0_400.pdf', format='pdf', bbox_inches='tight',)\n",
    "\n",
    "fig.savefig(plot_dir_fist_plot + 'lineplot_global_normScore_vs_SW_locarnaV2_0RC6_combine_FULLBralibase_artifical_dataset_SW0_400.pdf', format='pdf', bbox_inches='tight',)\n",
    "fig.savefig(plot_dir_fist_plot + 'lineplot_global_normScore_vs_SW_locarnaV2_0RC6_combine_FULLBralibase_artifical_dataset_SW0_400.svg', format='svg', bbox_inches='tight',)"
   ]
  },
  {
   "cell_type": "markdown",
   "metadata": {},
   "source": [
    "#### Using Global optimized parameters!!!"
   ]
  },
  {
   "cell_type": "code",
   "execution_count": null,
   "metadata": {},
   "outputs": [],
   "source": [
    "\n"
   ]
  },
  {
   "cell_type": "code",
   "execution_count": null,
   "metadata": {},
   "outputs": [],
   "source": []
  }
 ],
 "metadata": {
  "kernelspec": {
   "display_name": "Python 2",
   "language": "python",
   "name": "python2"
  },
  "language_info": {
   "codemirror_mode": {
    "name": "ipython",
    "version": 2
   },
   "file_extension": ".py",
   "mimetype": "text/x-python",
   "name": "python",
   "nbconvert_exporter": "python",
   "pygments_lexer": "ipython2",
   "version": "2.7.15"
  }
 },
 "nbformat": 4,
 "nbformat_minor": 1
}
