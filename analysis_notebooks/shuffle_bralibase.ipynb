{
 "cells": [
  {
   "cell_type": "markdown",
   "metadata": {},
   "source": [
    "## Shuffle Bralibase\n",
    "### this script loops over all Bralibase raw fils, shuffels the rna sequences and stors the shuffled fasta fils"
   ]
  },
  {
   "cell_type": "code",
   "execution_count": 8,
   "metadata": {
    "collapsed": true
   },
   "outputs": [],
   "source": [
    "# import data:\n",
    "bralibase_dir = '/home/muellert/Dokumente/locarna_parameteropt/Data/'"
   ]
  },
  {
   "cell_type": "code",
   "execution_count": 9,
   "metadata": {
    "collapsed": true
   },
   "outputs": [],
   "source": [
    "#Parameters\n",
    "bralibase_name = 'BRALIBASEk2'\n",
    "bralibase_path = bralibase_dir  + bralibase_name\n",
    "\n",
    "new_bralibase_dir = '/home/muellert/Dokumente/locarna_parameteropt/Data/'\n",
    "new_bralibase_name = 'BRALIBASE-SHUFFLED'\n",
    "new_bralibase_path = new_bralibase_dir  + new_bralibase_name"
   ]
  },
  {
   "cell_type": "code",
   "execution_count": 10,
   "metadata": {
    "collapsed": false
   },
   "outputs": [
    {
     "name": "stdout",
     "output_type": "stream",
     "text": [
      "UGCAAUACCUAAGGUCUUCGCUGAGUCCGAAGUGCGUGUCAAGUCUCCCCCCUCGAAGGGGUUGAAGCCGUAUUCCCAAACCCUUUUGGGGCUUGACUAGGCUGGGGAGGGCUUUGAAGUACGACCCCCGCGCCCCCGAACAAGGGGACGGUUGUGUCCCGACGUCCGGCAACAGAGCAUACCUGGAGAUGUGCCAGUCCGGCUGAUGCCGGCGCUAUCAGUCGCACCGUAGAGUCCG\n"
     ]
    }
   ],
   "source": [
    "from altschulEriksonDinuclShuffle import dinuclShuffle\n",
    "\n",
    "\n",
    "seq1 = 'ACGCGGUGGAAAGGG'\n",
    "shuffled1 = dinuclShuffle(seq1)\n",
    "seq2 = 'uucccugugaggaacuucugucuucacgcggaaagcgccuagccauggcguuaguacgagugucgugcagccuccaggccccccccucccgggagagccauaguggucugcggaaccggugaguacaccggaaucgcuggggugaccggguccuuucuuggaacaacccgcucaauacccagaaauuugggcgugcccccgcgagaucacuagccgaguaguguugggucgcgaaagg'\n",
    "seq2_shuffled = seq2.upper()\n",
    "shuffled2 = dinuclShuffle(seq2.upper())\n",
    "print shuffled2"
   ]
  },
  {
   "cell_type": "code",
   "execution_count": 11,
   "metadata": {
    "collapsed": true,
    "scrolled": true
   },
   "outputs": [],
   "source": [
    "import glob \n",
    "import os\n",
    "from Bio import SeqIO\n",
    "#import pathlib\n",
    "\n",
    "from shutil import copyfile\n",
    "\n",
    "# copyfile(src, dst)\n",
    "\n",
    "shuffle_fasta_tool = 'fasta-shuffle-letters -kmer 2 '\n",
    "\n",
    "families = glob.glob(bralibase_path + '/k2/*')\n",
    "#print families\n",
    "for famdir in families:\n",
    "    #print famdir\n",
    "    famdir_shuf = famdir.replace(bralibase_path,new_bralibase_path)\n",
    "    #print famdir_shuf\n",
    "    # test if dir already exist\n",
    "    if os.path.isdir(famdir_shuf) == False:  \n",
    "        # make new dir\n",
    "        os.makedirs(famdir_shuf)\n",
    "    for unshuffa in glob.glob(famdir+'/*.raw.fa'): \n",
    "        #print unshuffa\n",
    "        output_file =  unshuffa.replace(bralibase_name, new_bralibase_name)\n",
    "        #print output_file\n",
    "        cmd_call = shuffle_fasta_tool + unshuffa + ' '+ output_file\n",
    "        os.system(cmd_call)\n",
    "        \n",
    "    for unshuffa in glob.glob(famdir+'/*.ref.fa'):\n",
    "        new_ref_location = unshuffa.replace(bralibase_name, new_bralibase_name)\n",
    "        copyfile(unshuffa, new_ref_location)\n"
   ]
  },
  {
   "cell_type": "code",
   "execution_count": 12,
   "metadata": {
    "collapsed": false
   },
   "outputs": [
    {
     "ename": "SyntaxError",
     "evalue": "invalid syntax (<ipython-input-12-7614be0bd194>, line 14)",
     "output_type": "error",
     "traceback": [
      "\u001b[0;36m  File \u001b[0;32m\"<ipython-input-12-7614be0bd194>\"\u001b[0;36m, line \u001b[0;32m14\u001b[0m\n\u001b[0;31m    outfa.write('>'+i+'\\n') outfa.write(s+'\\n')\u001b[0m\n\u001b[0m                                ^\u001b[0m\n\u001b[0;31mSyntaxError\u001b[0m\u001b[0;31m:\u001b[0m invalid syntax\n"
     ]
    }
   ],
   "source": [
    "#import glob \n",
    "\n",
    "#families = glob.glob('BRALIPATH/K2/*') \n",
    "#for famdir in families: \n",
    "    #famdir_shuf = famdir.replace('BRALIBASE','BRALIBASE-SHUFFLED') \n",
    "    #mkdir(famdir_shuf) \n",
    "    #for unshuffa in glob.glob(famdir+'/*.fa'): \n",
    "        #recs = biopython.seqio.parse(unshuffa) \n",
    "        #shuffled_seqs = [dishuffle(rec.seq) for rec in recs] \n",
    "        #rec_ids = [rec.id for rec in recs] \n",
    "        #shuffled_fa = unshuffled_fa.replace('BRALIBASE','BRALIBAE-SHUFFLED') \n",
    "        #with open(shuffled_fa,'w') as outfa: \n",
    "            #for s,i in zip(shuffled_seqs, rec_ids): \n",
    "                #outfa.write('>'+i+'\\n') outfa.write(s+'\\n')\n",
    "                "
   ]
  },
  {
   "cell_type": "code",
   "execution_count": null,
   "metadata": {
    "collapsed": true
   },
   "outputs": [],
   "source": []
  }
 ],
 "metadata": {
  "kernelspec": {
   "display_name": "Python 2",
   "language": "python",
   "name": "python2"
  },
  "language_info": {
   "codemirror_mode": {
    "name": "ipython",
    "version": 2
   },
   "file_extension": ".py",
   "mimetype": "text/x-python",
   "name": "python",
   "nbconvert_exporter": "python",
   "pygments_lexer": "ipython2",
   "version": "2.7.11"
  }
 },
 "nbformat": 4,
 "nbformat_minor": 1
}
