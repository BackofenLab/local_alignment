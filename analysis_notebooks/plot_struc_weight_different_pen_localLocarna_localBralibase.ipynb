{
 "cells": [
  {
   "cell_type": "code",
   "execution_count": 1,
   "metadata": {
    "collapsed": false
   },
   "outputs": [],
   "source": [
    "# load data:\n",
    "\n",
    "import pandas as pd\n",
    "import numpy as np\n",
    "import matplotlib.pyplot as plt\n",
    "import seaborn as sns\n",
    "\n"
   ]
  },
  {
   "cell_type": "markdown",
   "metadata": {},
   "source": [
    "### importe bralibase file to a data frame \n",
    "\n"
   ]
  },
  {
   "cell_type": "code",
   "execution_count": 2,
   "metadata": {
    "collapsed": true
   },
   "outputs": [],
   "source": [
    "# read Bralibase input that contains several runs of one parameter that was alternated\n",
    "def read_file_to_df(infile):\n",
    "    \n",
    "    #flags:\n",
    "    set_paramerter = 0\n",
    "    read_file = 0\n",
    "    set_header = 0\n",
    "\n",
    "    sw_parameter = ''\n",
    "    df_dict ={}\n",
    "\n",
    "\n",
    "    f = open(infile, 'r') # open the file for reading\n",
    "    data = []\n",
    "    for row_num, line in enumerate(f):\n",
    "        # Remove the new line at the end and then split the string based on\n",
    "        # tabs. This creates a python list of the values.\n",
    "        values = line.strip().split('\\t')\n",
    "        # print values\n",
    "\n",
    "        if values[0] == 'Testing the following parameters:':\n",
    "            set_paramerter = 1\n",
    "            continue\n",
    "        elif set_paramerter == 1:\n",
    "            # get second part of string e.g. 'struct_cost 0,'\n",
    "            sw_parameter = values[0].split(' ')[1]\n",
    "            #print sw_parameter\n",
    "            sw_parameter = sw_parameter.rstrip(',')\n",
    "            set_paramerter = 0\n",
    "            continue\n",
    "        elif values[0] == '### Begin Objective Function ###':\n",
    "            read_file = 1\n",
    "            set_header = 1\n",
    "            #print 'header'\n",
    "            continue\n",
    "        elif read_file ==1:\n",
    "            if values[0] == '### End Objective Function ###':\n",
    "\n",
    "                d = dict([(x[0],x[1]) for x in h])\n",
    "                df = 'df_sw_' + str(sw_parameter)\n",
    "                df_dict[df] = pd.DataFrame(data=d)\n",
    "                #print df\n",
    "                read_file = 0\n",
    "                continue\n",
    "            elif set_header == 1:\n",
    "                h = []\n",
    "                h = list([(key, []) for key in values])\n",
    "                #print values\n",
    "                set_header = 0\n",
    "            else:\n",
    "                #print values\n",
    "                for pos, i in enumerate(values):\n",
    "                    h[pos][1].append(i)\n",
    "\n",
    "\n",
    "\n",
    "    f.close() # close the file\n",
    "    \n",
    "    return df_dict"
   ]
  },
  {
   "cell_type": "code",
   "execution_count": 3,
   "metadata": {
    "collapsed": false
   },
   "outputs": [],
   "source": [
    "# change strings to flote or interger values and add the structure weight as colum\n",
    "def cast_datatyps_of_df(df, sw_range_list):\n",
    "\n",
    "    for i in sw_range_list:\n",
    "        df_name = 'df_sw_' + str(i)\n",
    "        df[df_name]['PredlocalEndA'] = df[df_name]['PredlocalEndA'].astype(int)\n",
    "        df[df_name]['PredlocalEndB'] = df[df_name]['PredlocalEndB'].astype(int)\n",
    "        df[df_name]['PredlocalStartA'] = df[df_name]['PredlocalStartA'].astype(int)\n",
    "        df[df_name]['PredlocalStartB'] = df[df_name]['PredlocalStartB'].astype(int)\n",
    "        df[df_name]['sps'] = df[df_name]['sps'].astype(float)\n",
    "        df[df_name]['spsmax'] = df[df_name]['spsmax'].astype(float)\n",
    "        df[df_name]['apsi'] = df[df_name]['apsi'].astype(int)\n",
    "        df[df_name]['sci'] = df[df_name]['sci'].astype(int)\n",
    "        df[df_name]['score'] = df[df_name]['score'].astype(int)\n",
    "        df[df_name]['SeqAFp'] = df[df_name]['SeqAFp'].astype(int)\n",
    "        df[df_name]['SeqATn'] = df[df_name]['SeqATn'].astype(int)\n",
    "        df[df_name]['SeqATp'] = df[df_name]['SeqATp'].astype(int)\n",
    "        df[df_name]['SeqAFn'] = df[df_name]['SeqAFn'].astype(int)\n",
    "        df[df_name]['SeqBFp'] = df[df_name]['SeqBFp'].astype(int)\n",
    "        df[df_name]['SeqBTn'] = df[df_name]['SeqBTn'].astype(int)\n",
    "        df[df_name]['SeqBTp'] = df[df_name]['SeqBTp'].astype(int)\n",
    "        df[df_name]['SeqBFn'] = df[df_name]['SeqBFn'].astype(int)\n",
    "        df[df_name]['ReflocalEndA'] = df[df_name]['ReflocalEndA'].astype(int)\n",
    "        df[df_name]['ReflocalEndB'] = df[df_name]['ReflocalEndB'].astype(int)\n",
    "        df[df_name]['ReflocalStartA'] = df[df_name]['ReflocalStartA'].astype(int)\n",
    "        df[df_name]['ReflocalStartB'] = df[df_name]['ReflocalStartB'].astype(int)\n",
    "        df[df_name]['RefsequenceLengthRawA'] = df[df_name]['RefsequenceLengthRawA'].astype(int)\n",
    "        df[df_name]['RefsequenceLengthRawB'] = df[df_name]['RefsequenceLengthRawB'].astype(int)\n",
    "        df[df_name]['RefsequenceLengthRefA'] = df[df_name]['RefsequenceLengthRefA'].astype(int)\n",
    "        df[df_name]['RefsequenceLengthRefB'] = df[df_name]['RefsequenceLengthRefB'].astype(int)\n",
    "        df[df_name]['sw_range'] = i\n",
    "\n",
    "    return df"
   ]
  },
  {
   "cell_type": "code",
   "execution_count": 4,
   "metadata": {
    "collapsed": false,
    "scrolled": true
   },
   "outputs": [],
   "source": [
    "# concatinate dataframes for the different sw (for the average and the compleat data)\n",
    "def concatinate_dfs(sw_range_list, df_dict):\n",
    "    scores = []\n",
    "    max_sps = []\n",
    "    df_names_list = []\n",
    "    # construct y\n",
    "    for i in sw_range_list:\n",
    "        df_name = 'df_sw_' + str(i)\n",
    "        df_names_list.append(df_dict[df_name])\n",
    "        df = df_dict[df_name]\n",
    "        df_score = df[['score']].apply(pd.to_numeric)\n",
    "        #print df_score\n",
    "        #print df_score['score'].mean()\n",
    "        scores.append(int(df_score['score'].mean()))\n",
    "        df_max_sps = df[['spsmax']].apply(pd.to_numeric)\n",
    "        max_sps.append(df_max_sps['spsmax'].mean())\n",
    "\n",
    "    # see each datatyp of a list\n",
    "    #for element in scores:\n",
    "        #print element, type(element)     \n",
    "\n",
    "\n",
    "    np_sw_range = np.array(sw_range_list)    \n",
    "    np_scores = np.array(scores)\n",
    "    np_max_sps = np.array(max_sps)\n",
    "\n",
    "\n",
    "\n",
    "    d = {'sw_range': sw_range_list, 'scores': scores, 'max_sps': max_sps}\n",
    "    df_avg_scors = pd.DataFrame(data=d)\n",
    "\n",
    "\n",
    "    df_full_sw_scores = pd.concat(df_names_list)\n",
    "    #df_full_sw_scores.info()\n",
    "    \n",
    "    return df_full_sw_scores, df_avg_scors"
   ]
  },
  {
   "cell_type": "code",
   "execution_count": 5,
   "metadata": {
    "collapsed": false,
    "scrolled": true
   },
   "outputs": [],
   "source": [
    "# concatinate a colum of the df and the belonging df sw name\n",
    "def concatinate_dfs_making_sw_colums(sw_range_list, df_dict, column='score'):\n",
    "    \n",
    "    df_colum_sw_name = pd.DataFrame()\n",
    "    \n",
    "    # construct y\n",
    "    for i in sw_range_list:\n",
    "        df_name = 'df_sw_' + str(i)\n",
    "        column_name = 'sw_' + str(i)\n",
    "        #print column_name\n",
    "        df = df_dict[df_name]\n",
    "        df_colum_sw_name[column_name] = df[column]\n",
    "        \n",
    "    \n",
    "    return df_colum_sw_name"
   ]
  },
  {
   "cell_type": "code",
   "execution_count": 6,
   "metadata": {
    "collapsed": false
   },
   "outputs": [],
   "source": [
    "def select_parts_of_df(df_in, identifier):\n",
    "    df = pd.concat([df_in['Filename'], df_in['sw_range'], df_in['score'], df_in['PredlocalStartA'], df_in['PredlocalEndA'], df_in['PredlocalStartB'], df_in['PredlocalEndB'], df_in['spsmax']], axis=1, keys=['Filename', 'sw_range', 'score', 'PredlocalStartA', 'PredlocalEndA', 'PredlocalStartB', 'PredlocalEndB', 'spsmax'])\n",
    "    df['seq'] = identifier\n",
    "    return df\n",
    "\n",
    "\n",
    "\n",
    "def generate_one_df(df_full_sw_scores, df_full_sw_scores_shuffled_seq, id_all_shuffeld='shuffled_RNA', id_con_shuffle='unshuffled_RNA'):\n",
    "    \n",
    "    df_allseq_unshuffled = select_parts_of_df(df_full_sw_scores, id_con_shuffle)\n",
    "    df_allseq_shuffled = select_parts_of_df(df_full_sw_scores_shuffled_seq, id_all_shuffeld)\n",
    "    \n",
    "    frames = [df_allseq_shuffled, df_allseq_unshuffled]\n",
    "    df_shuffled_and_unshuffled = pd.concat(frames)\n",
    "    \n",
    "    return df_shuffled_and_unshuffled"
   ]
  },
  {
   "cell_type": "code",
   "execution_count": 7,
   "metadata": {
    "collapsed": false
   },
   "outputs": [],
   "source": [
    "def create_statisics_df(df_dict, sw_list, sens_spec_sep=True):\n",
    "    df_plot_sens = pd.DataFrame()\n",
    "    df_plot_spec = pd.DataFrame()\n",
    "    df_list = []\n",
    "    \n",
    "    for sw in sw_list:\n",
    "        df_dict_temp =df_dict.loc[df_dict['sw_range'] == sw]\n",
    "        #df_dict_temp.info()\n",
    "        df_statisics = df_dict_temp[['SeqATp', 'SeqBTp', 'SeqATn', 'SeqBTn', 'SeqAFp', 'SeqBFp', 'SeqAFn', 'SeqBFn', 'RefsequenceLengthRawA']]\n",
    "        sens = 'sensitivity_sw_' + str(sw)\n",
    "        spec = 'specificity_sw_' + str(sw)\n",
    "        df_plot_sens[sens]= ((df_statisics['SeqATp']/ (df_statisics['SeqATp'] + df_statisics['SeqAFn'])) +(df_statisics['SeqBTp']/ (df_statisics['SeqBTp'] + df_statisics['SeqBFn']))) / 2\n",
    "        df_plot_spec[spec]= ((df_statisics['SeqATn']/ (df_statisics['SeqATn'] + df_statisics['SeqAFp'])) +(df_statisics['SeqBTn']/ (df_statisics['SeqBTn'] + df_statisics['SeqBFp']))) / 2\n",
    "        \n",
    "    return df_plot_sens, df_plot_spec  \n",
    "\n",
    "\n"
   ]
  },
  {
   "cell_type": "code",
   "execution_count": 8,
   "metadata": {
    "collapsed": true
   },
   "outputs": [],
   "source": [
    "# bis zum concat kann man alles zusammen fassen! inklusice ob df in bestimmten range sein soll! \n",
    "\n",
    "def generate_dataset(file_name, step_size = 10, start_param = 0, end_param = 400, cut_apsi=100):\n",
    "    #read file\n",
    "    df_dict = read_file_to_df(file_name)\n",
    "    \n",
    "    # list for different sw datasets \n",
    "    end_param = end_param + step_size\n",
    "    sw_range_list = list(range(start_param,end_param,step_size))\n",
    "    \n",
    "    # cast parameters of df\n",
    "    df_dict = cast_datatyps_of_df(df_dict, sw_range_list)\n",
    "    \n",
    "    # concatinate dataframe\n",
    "    df_full_sw_scores, df_avg_scors = concatinate_dfs(sw_range_list, df_dict)\n",
    "    \n",
    "    if (cut_apsi < 100):\n",
    "        print '< ' + str(cut_apsi)\n",
    "        df_full_sw_scores = df_full_sw_scores[(df_full_sw_scores.apsi < cut_apsi)]\n",
    "    \n",
    "    return df_full_sw_scores, df_avg_scors\n",
    "\n"
   ]
  },
  {
   "cell_type": "markdown",
   "metadata": {},
   "source": [
    "### Read data"
   ]
  },
  {
   "cell_type": "code",
   "execution_count": 9,
   "metadata": {
    "collapsed": false,
    "scrolled": true
   },
   "outputs": [],
   "source": [
    "file_dir = '/home/muellert/Dokumente/locarna_parameteropt/Data/20180326_log_files_con100_with_all_shuffled_and_pen/'\n",
    "file_test = \"/home/muellert/Dokumente/locarna_parameteropt/Data/20180213_log_file_Benchmarkpilot_struc_weight/20180212 1_Locarna Dataset_Bralibase_con100_k2_U6.log\"\n",
    "\n",
    "file_compleat_sw_0_400_pen0 = file_dir + '20180219_Locarna_defaultParam_con100_ModifiedBralibase-k2.log'\n",
    "file_compleat_sw_0_400_shuffled_seq_pen0 = file_dir + '20180219_Locarna_fullSeqSuffled_defaultParam_con100_ModifiedBralibase-k2.log'\n",
    "\n",
    "file_compleat_sw_0_400_pen5 = file_dir + '20180323_Locarna Dataset_Bralibase_con100_k2_pen5.log'\n",
    "file_compleat_sw_0_400_shuffled_seq_pen5 = file_dir + '20180323_Locarna_fullSeqSuffled_defaultParam_con100_ModifiedBralibase-k2_pen5.log'\n",
    "\n",
    "file_compleat_sw_0_400_pen15 = file_dir + '20180403_Locarna_Dataset_Bralibase_con100_k2_pen15.log'\n",
    "file_compleat_sw_0_400_shuffled_seq_pen15 = file_dir + '20180322_Locarna_fullSeqSuffled_defaultParam_con100_ModifiedBralibase-k2_pen15.log'\n",
    "\n",
    "file_compleat_sw_0_400_pen50 = file_dir + '20180404_Locarna_Dataset_defaultParam_Bralibase_con100_k2_pen50.log'\n",
    "file_compleat_sw_0_400_shuffled_seq_pen50 = file_dir + '20180406_Locarna_fullSeqSuffled_defaultParam_con100_ModifiedBralibase-k2_pen50.log'"
   ]
  },
  {
   "cell_type": "code",
   "execution_count": 10,
   "metadata": {
    "collapsed": true
   },
   "outputs": [],
   "source": [
    "# define dataset\n",
    "\n",
    "cut_apsi_value = 100;\n",
    "\n",
    "if cut_apsi_value < 100:\n",
    "    plot_title = 'BraliBase filterd APSI < ' + str(cut_apsi_value)\n",
    "elif cut_apsi_value == 100:\n",
    "    plot_title = 'Full BraliBase' \n",
    "else:\n",
    "    print 'error: apsi sould be between 20 to 100'"
   ]
  },
  {
   "cell_type": "markdown",
   "metadata": {},
   "source": [
    "### call function to construct df"
   ]
  },
  {
   "cell_type": "code",
   "execution_count": 11,
   "metadata": {
    "collapsed": false,
    "scrolled": true
   },
   "outputs": [
    {
     "name": "stdout",
     "output_type": "stream",
     "text": [
      "pen0\n",
      "pen0_suffled\n",
      "pen5\n",
      "pen5_shuffled\n",
      "pen15\n",
      "pen15_shuffled\n",
      "pen50\n",
      "pen50_shuffled\n"
     ]
    }
   ],
   "source": [
    "df_full_sw_scores_pen0, df_avg_scors_pen0 = generate_dataset(file_compleat_sw_0_400_pen0, cut_apsi=cut_apsi_value)\n",
    "print 'pen0'\n",
    "df_full_sw_scores_fullshuffled_pen0, df_avg_scors_fullshuffled_pen0 = generate_dataset(file_compleat_sw_0_400_shuffled_seq_pen0, cut_apsi=cut_apsi_value)\n",
    "print 'pen0_suffled'\n",
    "df_full_sw_scores_pen5, df_avg_scors_pen5 = generate_dataset(file_compleat_sw_0_400_pen5, cut_apsi=cut_apsi_value)\n",
    "print 'pen5'\n",
    "df_full_sw_scores_fullshuffled_pen5, df_avg_scors_fullshuffled_pen5 = generate_dataset(file_compleat_sw_0_400_shuffled_seq_pen5, cut_apsi=cut_apsi_value)\n",
    "print 'pen5_shuffled'\n",
    "df_full_sw_scores_pen15, df_avg_scors_pen15 = generate_dataset(file_compleat_sw_0_400_pen15, cut_apsi=cut_apsi_value)\n",
    "print 'pen15'\n",
    "df_full_sw_scores_fullshuffled_pen15, df_avg_scors_fullshuffled_pen15 = generate_dataset(file_compleat_sw_0_400_shuffled_seq_pen15, cut_apsi=cut_apsi_value)\n",
    "print 'pen15_shuffled'\n",
    "\n",
    "df_full_sw_scores_pen50, df_avg_scors_pen50 = generate_dataset(file_compleat_sw_0_400_pen50, cut_apsi=cut_apsi_value)\n",
    "print 'pen50'\n",
    "df_full_sw_scores_fullshuffled_pen50, df_avg_scors_fullshuffled_pen50 = generate_dataset(file_compleat_sw_0_400_shuffled_seq_pen50, cut_apsi=cut_apsi_value)\n",
    "print 'pen50_shuffled'"
   ]
  },
  {
   "cell_type": "code",
   "execution_count": 12,
   "metadata": {
    "collapsed": false,
    "scrolled": true
   },
   "outputs": [],
   "source": [
    "# for testing differnce \n",
    "# df_full_sw_scores_pen0, df_avg_scors_pen0\n",
    "\n",
    "def get_difference(df_full_sw_scores, df_full_sw_scores_shuffled_seq):\n",
    "    df_difference = pd.DataFrame()\n",
    "    df_rna = df_full_sw_scores.groupby('sw_range')['score'].agg(['min','max','mean'])\n",
    "    df_shuffled = df_full_sw_scores_shuffled_seq.groupby('sw_range')['score'].agg(['min','max','mean'])\n",
    "    df_difference['mean_rna'] = df_rna['mean']\n",
    "    df_difference['mean_shuffeled'] = df_shuffled['mean']\n",
    "    df_difference['difference'] = df_rna['mean'] - df_shuffled['mean']\n",
    "    return df_difference\n",
    "\n",
    "df_difference_pen0 = get_difference(df_full_sw_scores_pen0, df_full_sw_scores_fullshuffled_pen0)"
   ]
  },
  {
   "cell_type": "code",
   "execution_count": 13,
   "metadata": {
    "collapsed": false,
    "scrolled": true
   },
   "outputs": [
    {
     "name": "stdout",
     "output_type": "stream",
     "text": [
      "<class 'pandas.core.frame.DataFrame'>\n",
      "Int64Index: 2037044 entries, 0 to 6225\n",
      "Data columns (total 9 columns):\n",
      "Filename           object\n",
      "sw_range           int64\n",
      "score              int64\n",
      "PredlocalStartA    int64\n",
      "PredlocalEndA      int64\n",
      "PredlocalStartB    int64\n",
      "PredlocalEndB      int64\n",
      "spsmax             float64\n",
      "seq                object\n",
      "dtypes: float64(1), int64(6), object(2)\n",
      "memory usage: 155.4+ MB\n"
     ]
    }
   ],
   "source": [
    "df_shuffled_and_unshuffled_pen0 = generate_one_df(df_full_sw_scores_pen0, df_full_sw_scores_fullshuffled_pen0, id_all_shuffeld='shuffled_RNA_pen0', id_con_shuffle='unshuffled_RNA_pen0')\n",
    "df_shuffled_and_unshuffled_pen5 = generate_one_df(df_full_sw_scores_pen5, df_full_sw_scores_fullshuffled_pen5, id_all_shuffeld='shuffled_RNA_pen5', id_con_shuffle='unshuffled_RNA_pen5')\n",
    "df_shuffled_and_unshuffled_pen15 = generate_one_df(df_full_sw_scores_pen15, df_full_sw_scores_fullshuffled_pen15, id_all_shuffeld='shuffled_RNA_pen15', id_con_shuffle='unshuffled_RNA_pen15')\n",
    "df_shuffled_and_unshuffled_pen50 = generate_one_df(df_full_sw_scores_pen50, df_full_sw_scores_fullshuffled_pen50, id_all_shuffeld='shuffled_RNA_pen50', id_con_shuffle='unshuffled_RNA_pen50')\n",
    "\n",
    "\n",
    "frames = [df_shuffled_and_unshuffled_pen0, df_shuffled_and_unshuffled_pen5, df_shuffled_and_unshuffled_pen15, df_shuffled_and_unshuffled_pen50]\n",
    "df_shuffled_and_unshuffled = pd.concat(frames)\n",
    "\n",
    "df_shuffled_and_unshuffled.info()"
   ]
  },
  {
   "cell_type": "code",
   "execution_count": 14,
   "metadata": {
    "collapsed": false
   },
   "outputs": [
    {
     "name": "stdout",
     "output_type": "stream",
     "text": [
      "255266\n",
      "253995\n",
      "509261\n"
     ]
    }
   ],
   "source": [
    "assert((len(df_full_sw_scores_pen0)+len(df_full_sw_scores_fullshuffled_pen0)) == len( df_shuffled_and_unshuffled_pen0))\n",
    "print len(df_full_sw_scores_pen0)\n",
    "print len(df_full_sw_scores_fullshuffled_pen0)\n",
    "print len( df_shuffled_and_unshuffled_pen0)"
   ]
  },
  {
   "cell_type": "code",
   "execution_count": 15,
   "metadata": {
    "collapsed": false
   },
   "outputs": [
    {
     "name": "stdout",
     "output_type": "stream",
     "text": [
      "<class 'pandas.core.frame.DataFrame'>\n",
      "Int64Index: 2037044 entries, 0 to 6225\n",
      "Data columns (total 10 columns):\n",
      "Filename           object\n",
      "sw_range           int64\n",
      "score              int64\n",
      "PredlocalStartA    int64\n",
      "PredlocalEndA      int64\n",
      "PredlocalStartB    int64\n",
      "PredlocalEndB      int64\n",
      "spsmax             float64\n",
      "seq                object\n",
      "alig_length        float64\n",
      "dtypes: float64(2), int64(6), object(2)\n",
      "memory usage: 171.0+ MB\n"
     ]
    }
   ],
   "source": [
    "# calculate alignemnt lenth\n",
    "\n",
    "#df_shuffled_and_unshuffled['ReflocalStartB']\n",
    "df_shuffled_and_unshuffled['alig_length'] = ((df_shuffled_and_unshuffled['PredlocalEndA'] - df_shuffled_and_unshuffled['PredlocalStartA']+1) + (df_shuffled_and_unshuffled['PredlocalEndB'] - df_shuffled_and_unshuffled['PredlocalStartB']+1)) / 2\n",
    "df_shuffled_and_unshuffled.info()"
   ]
  },
  {
   "cell_type": "code",
   "execution_count": 16,
   "metadata": {
    "collapsed": false,
    "scrolled": true
   },
   "outputs": [
    {
     "data": {
      "text/html": [
       "<div>\n",
       "<style>\n",
       "    .dataframe thead tr:only-child th {\n",
       "        text-align: right;\n",
       "    }\n",
       "\n",
       "    .dataframe thead th {\n",
       "        text-align: left;\n",
       "    }\n",
       "\n",
       "    .dataframe tbody tr th {\n",
       "        vertical-align: top;\n",
       "    }\n",
       "</style>\n",
       "<table border=\"1\" class=\"dataframe\">\n",
       "  <thead>\n",
       "    <tr style=\"text-align: right;\">\n",
       "      <th></th>\n",
       "      <th></th>\n",
       "      <th>min</th>\n",
       "      <th>mean</th>\n",
       "    </tr>\n",
       "    <tr>\n",
       "      <th>seq</th>\n",
       "      <th>sw_range</th>\n",
       "      <th></th>\n",
       "      <th></th>\n",
       "    </tr>\n",
       "  </thead>\n",
       "  <tbody>\n",
       "    <tr>\n",
       "      <th rowspan=\"3\" valign=\"top\">shuffled_RNA_pen0</th>\n",
       "      <th>0</th>\n",
       "      <td>6.0</td>\n",
       "      <td>22.242938</td>\n",
       "    </tr>\n",
       "    <tr>\n",
       "      <th>200</th>\n",
       "      <td>10.0</td>\n",
       "      <td>66.467070</td>\n",
       "    </tr>\n",
       "    <tr>\n",
       "      <th>400</th>\n",
       "      <td>19.0</td>\n",
       "      <td>145.815819</td>\n",
       "    </tr>\n",
       "    <tr>\n",
       "      <th rowspan=\"3\" valign=\"top\">shuffled_RNA_pen15</th>\n",
       "      <th>0</th>\n",
       "      <td>5.0</td>\n",
       "      <td>12.163761</td>\n",
       "    </tr>\n",
       "    <tr>\n",
       "      <th>200</th>\n",
       "      <td>7.0</td>\n",
       "      <td>29.467393</td>\n",
       "    </tr>\n",
       "    <tr>\n",
       "      <th>400</th>\n",
       "      <td>12.0</td>\n",
       "      <td>103.610896</td>\n",
       "    </tr>\n",
       "    <tr>\n",
       "      <th rowspan=\"3\" valign=\"top\">shuffled_RNA_pen5</th>\n",
       "      <th>0</th>\n",
       "      <td>5.0</td>\n",
       "      <td>17.358838</td>\n",
       "    </tr>\n",
       "    <tr>\n",
       "      <th>200</th>\n",
       "      <td>8.0</td>\n",
       "      <td>48.615658</td>\n",
       "    </tr>\n",
       "    <tr>\n",
       "      <th>400</th>\n",
       "      <td>15.0</td>\n",
       "      <td>133.960371</td>\n",
       "    </tr>\n",
       "    <tr>\n",
       "      <th rowspan=\"3\" valign=\"top\">shuffled_RNA_pen50</th>\n",
       "      <th>0</th>\n",
       "      <td>3.0</td>\n",
       "      <td>7.224697</td>\n",
       "    </tr>\n",
       "    <tr>\n",
       "      <th>200</th>\n",
       "      <td>3.0</td>\n",
       "      <td>10.403874</td>\n",
       "    </tr>\n",
       "    <tr>\n",
       "      <th>400</th>\n",
       "      <td>7.0</td>\n",
       "      <td>33.441001</td>\n",
       "    </tr>\n",
       "    <tr>\n",
       "      <th rowspan=\"3\" valign=\"top\">unshuffled_RNA_pen0</th>\n",
       "      <th>0</th>\n",
       "      <td>7.0</td>\n",
       "      <td>70.122952</td>\n",
       "    </tr>\n",
       "    <tr>\n",
       "      <th>200</th>\n",
       "      <td>16.0</td>\n",
       "      <td>112.939929</td>\n",
       "    </tr>\n",
       "    <tr>\n",
       "      <th>400</th>\n",
       "      <td>49.5</td>\n",
       "      <td>228.608898</td>\n",
       "    </tr>\n",
       "    <tr>\n",
       "      <th rowspan=\"3\" valign=\"top\">unshuffled_RNA_pen15</th>\n",
       "      <th>0</th>\n",
       "      <td>6.0</td>\n",
       "      <td>58.294491</td>\n",
       "    </tr>\n",
       "    <tr>\n",
       "      <th>200</th>\n",
       "      <td>10.0</td>\n",
       "      <td>73.475747</td>\n",
       "    </tr>\n",
       "    <tr>\n",
       "      <th>400</th>\n",
       "      <td>16.0</td>\n",
       "      <td>170.734661</td>\n",
       "    </tr>\n",
       "    <tr>\n",
       "      <th rowspan=\"3\" valign=\"top\">unshuffled_RNA_pen5</th>\n",
       "      <th>0</th>\n",
       "      <td>7.0</td>\n",
       "      <td>65.021282</td>\n",
       "    </tr>\n",
       "    <tr>\n",
       "      <th>200</th>\n",
       "      <td>12.0</td>\n",
       "      <td>92.243254</td>\n",
       "    </tr>\n",
       "    <tr>\n",
       "      <th>400</th>\n",
       "      <td>28.0</td>\n",
       "      <td>212.502329</td>\n",
       "    </tr>\n",
       "    <tr>\n",
       "      <th rowspan=\"3\" valign=\"top\">unshuffled_RNA_pen50</th>\n",
       "      <th>0</th>\n",
       "      <td>4.0</td>\n",
       "      <td>35.073964</td>\n",
       "    </tr>\n",
       "    <tr>\n",
       "      <th>200</th>\n",
       "      <td>5.0</td>\n",
       "      <td>48.962094</td>\n",
       "    </tr>\n",
       "    <tr>\n",
       "      <th>400</th>\n",
       "      <td>10.0</td>\n",
       "      <td>72.526662</td>\n",
       "    </tr>\n",
       "  </tbody>\n",
       "</table>\n",
       "</div>"
      ],
      "text/plain": [
       "                                min        mean\n",
       "seq                  sw_range                  \n",
       "shuffled_RNA_pen0    0          6.0   22.242938\n",
       "                     200       10.0   66.467070\n",
       "                     400       19.0  145.815819\n",
       "shuffled_RNA_pen15   0          5.0   12.163761\n",
       "                     200        7.0   29.467393\n",
       "                     400       12.0  103.610896\n",
       "shuffled_RNA_pen5    0          5.0   17.358838\n",
       "                     200        8.0   48.615658\n",
       "                     400       15.0  133.960371\n",
       "shuffled_RNA_pen50   0          3.0    7.224697\n",
       "                     200        3.0   10.403874\n",
       "                     400        7.0   33.441001\n",
       "unshuffled_RNA_pen0  0          7.0   70.122952\n",
       "                     200       16.0  112.939929\n",
       "                     400       49.5  228.608898\n",
       "unshuffled_RNA_pen15 0          6.0   58.294491\n",
       "                     200       10.0   73.475747\n",
       "                     400       16.0  170.734661\n",
       "unshuffled_RNA_pen5  0          7.0   65.021282\n",
       "                     200       12.0   92.243254\n",
       "                     400       28.0  212.502329\n",
       "unshuffled_RNA_pen50 0          4.0   35.073964\n",
       "                     200        5.0   48.962094\n",
       "                     400       10.0   72.526662"
      ]
     },
     "execution_count": 16,
     "metadata": {},
     "output_type": "execute_result"
    }
   ],
   "source": [
    "#df_shuffled_and_unshuffled.groupby('Filename').score.agg(['min','max'])\n",
    "#df_shuffled_and_unshuffled.groupby('Filename')['seq'].agg(['min','max'])\n",
    "df = df_shuffled_and_unshuffled.groupby(['seq','sw_range'])['alig_length'].agg(['min','mean'])\n",
    "#df['sw_range' == 400 & 'seq' == 'shuffled_RNA']\n",
    "df.query('sw_range == [0,200,400]')\n",
    "#df_agg = df_shuffled_and_unshuffled.groupby('Filename')['ReflocalStartA'].agg(['min','max'])\n",
    "#df_agg[df_agg['min']!=df_agg['max']]\n",
    "#df_full_sw_scores, df_full_sw_scores_shuffled_seq\n",
    "# can not group by file name because the path is different!!!!!!\n",
    "#df_shuffled_and_unshuffled.groupby(['Filename']).get_group('/scratch/bi01/miladim/Teresa/Bralibase-LocalAlignment/ModifiedBraliBase_all_shuffel_con100/AllSeqShuffled/k2/5S_rRNA/5S_rRNA.apsi-39.sci-103.no-1.raw.fa')\n",
    "# apply(lambda x: print(x.max() - x.min()))"
   ]
  },
  {
   "cell_type": "code",
   "execution_count": 25,
   "metadata": {
    "collapsed": false
   },
   "outputs": [
    {
     "name": "stdout",
     "output_type": "stream",
     "text": [
      "[0, '', '', '', '', 5, '', '', '', '', 10, '', '', '', '', 15, '', '', '', '', 20]\n"
     ]
    }
   ],
   "source": [
    "no_ticks = 5\n",
    "\n",
    "ticks = [0,1,2,3,4,5,6,7,8,9,10,11,12,13,14,15,16,17,18,19,20]\n",
    "len_ticks = len(ticks)\n",
    "split = len_ticks/no_ticks\n",
    "\n",
    "for i, tick in enumerate(ticks): \n",
    "    if (i%no_ticks) != 0 :\n",
    "        ticks[i] = \"\"\n",
    "print ticks        "
   ]
  },
  {
   "cell_type": "code",
   "execution_count": 29,
   "metadata": {
    "collapsed": false
   },
   "outputs": [
    {
     "data": {
      "text/plain": [
       "<matplotlib.text.Text at 0x7f1a744b7210>"
      ]
     },
     "execution_count": 29,
     "metadata": {},
     "output_type": "execute_result"
    },
    {
     "data": {
      "image/png": "[encoded data removed]",
      "text/plain": [
       "<matplotlib.figure.Figure at 0x7f1adee41b50>"
      ]
     },
     "metadata": {},
     "output_type": "display_data"
    }
   ],
   "source": [
    "%matplotlib inline\n",
    "import matplotlib.pyplot as plt\n",
    "import seaborn as sns\n",
    "sns.set(style=\"whitegrid\")\n",
    "#sns.set_context(\"paper\")\n",
    "#fig = plt.figure(figsize=(6,5))\n",
    "#ax = fig.gca()# define axis\n",
    "fig, ax = plt.subplots()\n",
    "\n",
    "#major_ticks = np.arange(0, 401, 10)\n",
    "#minor_ticks = np.arange(0, 401, 5)\n",
    "\n",
    "#ax.set_xticks(major_ticks)\n",
    "#ax.set_xticks(minor_ticks, minor=True)\n",
    "\n",
    "\n",
    "sns.pointplot(x=\"sw_range\", y=\"score\", hue=\"seq\", data=df_shuffled_and_unshuffled, ax=ax, alpha =1)\n",
    "\n",
    "\n",
    "# get number of tick labels you want to have\n",
    "\n",
    "labels = [item.get_text() for item in ax.get_xticklabels()]\n",
    "no_ticks = 5\n",
    "\n",
    "len_ticks = len(labels)\n",
    "split = len_ticks/no_ticks\n",
    "\n",
    "for i, tick in enumerate(labels): \n",
    "    if (i%no_ticks) != 0 :\n",
    "        labels[i] = \"\"\n",
    "#print labels \n",
    "\n",
    "ax.set_xticklabels(labels)\n",
    "\n",
    "#ax.set_title('Comparison of LocARNA alignemnt score using Bralibase with context 100', fontsize=18)\n",
    "ax.set_title(plot_title, fontsize=20)\n",
    "#ax.set_title('Full BraliBase', fontsize=20)\n",
    "ax.set_xlabel('structure weight', fontsize=18)\n",
    "ax.set_ylabel('locarna score', fontsize=18)\n"
   ]
  },
  {
   "cell_type": "code",
   "execution_count": 30,
   "metadata": {
    "collapsed": false
   },
   "outputs": [
    {
     "data": {
      "text/plain": [
       "<matplotlib.text.Text at 0x7f1a6fc1fc50>"
      ]
     },
     "execution_count": 30,
     "metadata": {},
     "output_type": "execute_result"
    },
    {
     "data": {
      "image/png": "[encoded data removed]",
      "text/plain": [
       "<matplotlib.figure.Figure at 0x7f1a77cb4050>"
      ]
     },
     "metadata": {},
     "output_type": "display_data"
    }
   ],
   "source": [
    "import matplotlib.pyplot as plt\n",
    "import seaborn as sns\n",
    "sns.set(style=\"whitegrid\")\n",
    "%matplotlib inline\n",
    "fig, ax = plt.subplots()\n",
    "\n",
    "\n",
    "\n",
    "sns.pointplot(x=\"sw_range\", y=\"alig_length\", hue=\"seq\", data=df_shuffled_and_unshuffled, ax=ax, alpha =1)\n",
    "\n",
    "\n",
    "\n",
    "# get number of tick labels you want to have\n",
    "\n",
    "labels = [item.get_text() for item in ax.get_xticklabels()]\n",
    "no_ticks = 5\n",
    "\n",
    "len_ticks = len(labels)\n",
    "split = len_ticks/no_ticks\n",
    "\n",
    "for i, tick in enumerate(labels): \n",
    "    if (i%no_ticks) != 0 :\n",
    "        labels[i] = \"\"\n",
    "#print labels \n",
    "\n",
    "ax.set_xticklabels(labels)\n",
    "\n",
    "\n",
    "\n",
    "ax.set_title(plot_title, fontsize=20)\n",
    "#ax.set_title('Full BraliBase', fontsize=20)\n",
    "ax.set_xlabel('structure weight', fontsize=18)\n",
    "ax.set_ylabel('alignment lenth', fontsize=18)\n"
   ]
  },
  {
   "cell_type": "code",
   "execution_count": null,
   "metadata": {
    "collapsed": false
   },
   "outputs": [],
   "source": [
    "sw_list = [10, 50,100,150,200,250,350] \n",
    "df_plot_sens, df_plot_spec = create_statisics_df(df_full_sw_scores_pen15, sw_list)\n",
    "#df_plot, df_emty = create_statisics_df(df_dict, sw_list, False)"
   ]
  },
  {
   "cell_type": "code",
   "execution_count": null,
   "metadata": {
    "collapsed": false
   },
   "outputs": [],
   "source": [
    "import joypy\n",
    "import pandas as pd\n",
    "from matplotlib import pyplot as plt\n",
    "from matplotlib import cm\n",
    "\n",
    "%matplotlib inline\n",
    "fig = plt.figure(figsize=(10,8))\n",
    "ax = fig.gca()# define axis\n",
    "fig, axes = joypy.joyplot(df_plot_sens, ax=ax)\n",
    "\n",
    "#ax.set_title('Locarna scors for different structure weights')\n",
    "#ax.set_xlabel('structure weight')\n",
    "#ax.set_ylabel('locarna score')\n",
    "#fig.suptitle('Distriburtion of sensitivity (RNA)', fontsize=18)\n",
    "#fig.suptitle('BraliBase filterd APSI < 70', fontsize=20)\n",
    "fig.suptitle(plot_title, fontsize=20)"
   ]
  },
  {
   "cell_type": "code",
   "execution_count": null,
   "metadata": {
    "collapsed": false
   },
   "outputs": [],
   "source": [
    "%matplotlib inline\n",
    "fig = plt.figure(figsize=(10,8))\n",
    "ax = fig.gca()# define axis\n",
    "fig, axes = joypy.joyplot(df_plot_spec, ax=ax)\n",
    "\n",
    "#ax.set_title('Locarna scors for different structure weights')\n",
    "#ax.set_xlabel('structure weight')\n",
    "#ax.set_ylabel('locarna score')\n",
    "#fig.suptitle('Distriburtion of specificity (context)', fontsize=18)\n",
    "#fig.suptitle('BraliBase filterd APSI < 70', fontsize=20)\n",
    "fig.suptitle(plot_title, fontsize=20)"
   ]
  },
  {
   "cell_type": "code",
   "execution_count": null,
   "metadata": {
    "collapsed": false
   },
   "outputs": [],
   "source": [
    "df_plot_sens_neu = pd.DataFrame()\n",
    "df_plot_spec_neu = pd.DataFrame()\n",
    "\n",
    "df_plot_sens_sw350_pen50, df_plot_spec_sw350_pen50 = create_statisics_df(df_full_sw_scores_pen50, [350])\n",
    "\n",
    "df_plot_sens_neu['sw350_pen50'] = df_plot_sens_sw350_pen50['sensitivity_sw_350']\n",
    "df_plot_spec_neu['sw350_pen50'] = df_plot_spec_sw350_pen50['specificity_sw_350']\n",
    "\n",
    "df_plot_sens_sw350_pen15, df_plot_spec_sw350_pen15 = create_statisics_df(df_full_sw_scores_pen15, [350])\n",
    "\n",
    "df_plot_sens_neu['sw350_pen15'] = df_plot_sens_sw350_pen15['sensitivity_sw_350']\n",
    "df_plot_spec_neu['sw350_pen15'] = df_plot_spec_sw350_pen15['specificity_sw_350']\n",
    "\n",
    "df_plot_sens_sw350_pen5, df_plot_spec_sw350_pen5 = create_statisics_df(df_full_sw_scores_pen5, [350])\n",
    "\n",
    "df_plot_sens_neu['sw350_pen5'] = df_plot_sens_sw350_pen5['sensitivity_sw_350']\n",
    "df_plot_spec_neu['sw350_pen5'] = df_plot_spec_sw350_pen5['specificity_sw_350']\n",
    "\n",
    "df_plot_sens_sw350_pen0, df_plot_spec_sw350_pen0 = create_statisics_df(df_full_sw_scores_pen0, [350])\n",
    "\n",
    "df_plot_sens_neu['sw350_pen0'] = df_plot_sens_sw350_pen0['sensitivity_sw_350']\n",
    "df_plot_spec_neu['sw350_pen0'] = df_plot_spec_sw350_pen0['specificity_sw_350']\n",
    "\n",
    "df_plot_sens_sw200_pen50, df_plot_spec_sw200_pen50 = create_statisics_df(df_full_sw_scores_pen50, [200])\n",
    "\n",
    "df_plot_sens_neu['sw200_pen50'] = df_plot_sens_sw200_pen50['sensitivity_sw_200']\n",
    "df_plot_spec_neu['sw200_pen50'] = df_plot_spec_sw200_pen50['specificity_sw_200']\n",
    "\n",
    "df_plot_sens_sw200_pen15, df_plot_spec_sw200_pen15 = create_statisics_df(df_full_sw_scores_pen15, [200])\n",
    "\n",
    "df_plot_sens_neu['sw200_pen15'] = df_plot_sens_sw200_pen15['sensitivity_sw_200']\n",
    "df_plot_spec_neu['sw200_pen15'] = df_plot_spec_sw200_pen15['specificity_sw_200']\n",
    "\n",
    "df_plot_sens_sw200_pen5, df_plot_spec_sw200_pen5 = create_statisics_df(df_full_sw_scores_pen5, [200])\n",
    "\n",
    "df_plot_sens_neu['sw200_pen5'] = df_plot_sens_sw200_pen5['sensitivity_sw_200']\n",
    "df_plot_spec_neu['sw200_pen5'] = df_plot_spec_sw200_pen5['specificity_sw_200']\n",
    "\n",
    "df_plot_sens_sw200_pen0, df_plot_spec_sw200_pen0 = create_statisics_df(df_full_sw_scores_pen0, [200])\n",
    "\n",
    "df_plot_sens_neu['sw200_pen0'] = df_plot_sens_sw200_pen0['sensitivity_sw_200']\n",
    "df_plot_spec_neu['sw200_pen0'] = df_plot_spec_sw200_pen0['specificity_sw_200']\n",
    "\n",
    "df_plot_sens_sw100_pen50, df_plot_spec_sw100_pen50 = create_statisics_df(df_full_sw_scores_pen50, [100])\n",
    "\n",
    "df_plot_sens_neu['sw100_pen50'] = df_plot_sens_sw100_pen50['sensitivity_sw_100']\n",
    "df_plot_spec_neu['sw100_pen50'] = df_plot_spec_sw100_pen50['specificity_sw_100']\n",
    "\n",
    "\n",
    "df_plot_sens_sw100_pen15, df_plot_spec_sw100_pen15 = create_statisics_df(df_full_sw_scores_pen15, [100])\n",
    "\n",
    "df_plot_sens_neu['sw100_pen15'] = df_plot_sens_sw100_pen15['sensitivity_sw_100']\n",
    "df_plot_spec_neu['sw100_pen15'] = df_plot_spec_sw100_pen15['specificity_sw_100']\n",
    "\n",
    "df_plot_sens_sw100_pen5, df_plot_spec_sw100_pen5 = create_statisics_df(df_full_sw_scores_pen5, [100])\n",
    "\n",
    "df_plot_sens_neu['sw100_pen5'] = df_plot_sens_sw100_pen5['sensitivity_sw_100']\n",
    "df_plot_spec_neu['sw100_pen5'] = df_plot_spec_sw100_pen5['specificity_sw_100']\n",
    "\n",
    "df_plot_sens_sw100_pen0, df_plot_spec_sw100_pen0 = create_statisics_df(df_full_sw_scores_pen0, [100])\n",
    "\n",
    "df_plot_sens_neu['sw100_pen0'] = df_plot_sens_sw100_pen0['sensitivity_sw_100']\n",
    "df_plot_spec_neu['sw100_pen0'] = df_plot_spec_sw100_pen0['specificity_sw_100']\n",
    "\n",
    "\n",
    "df_plot_sens_sw50_pen15, df_plot_spec_sw50_pen15 = create_statisics_df(df_full_sw_scores_pen15, [50])\n",
    "\n",
    "df_plot_sens_neu['sw50_pen15'] = df_plot_sens_sw50_pen15['sensitivity_sw_50']\n",
    "df_plot_spec_neu['sw50_pen15'] = df_plot_spec_sw50_pen15['specificity_sw_50']\n",
    "\n",
    "df_plot_sens_sw50_pen5, df_plot_spec_sw50_pen5 = create_statisics_df(df_full_sw_scores_pen5, [50])\n",
    "\n",
    "df_plot_sens_neu['sw50_pen5'] = df_plot_sens_sw50_pen5['sensitivity_sw_50']\n",
    "df_plot_spec_neu['sw50_pen5'] = df_plot_spec_sw50_pen5['specificity_sw_50']\n",
    "\n",
    "df_plot_sens_sw50_pen0, df_plot_spec_sw50_pen0 = create_statisics_df(df_full_sw_scores_pen0, [50])\n",
    "\n",
    "df_plot_sens_neu['sw50_pen0'] = df_plot_sens_sw50_pen0['sensitivity_sw_50']\n",
    "df_plot_spec_neu['sw50_pen0'] = df_plot_spec_sw50_pen0['specificity_sw_50']\n",
    "\n",
    "\n",
    "\n",
    "\n",
    "\n",
    "\n",
    "\n",
    "df_plot_spec_neu.info()"
   ]
  },
  {
   "cell_type": "code",
   "execution_count": null,
   "metadata": {
    "collapsed": false
   },
   "outputs": [],
   "source": [
    "%matplotlib inline\n",
    "fig = plt.figure(figsize=(10,8))\n",
    "ax = fig.gca()# define axis\n",
    "fig, axes = joypy.joyplot(df_plot_sens_neu, ax=ax)\n",
    "\n",
    "#ax.set_title('Locarna scors for different structure weights')\n",
    "#ax.set_xlabel('structure weight')\n",
    "#ax.set_ylabel('locarna score')\n",
    "#fig.suptitle('Distriburtion of specificity (context)', fontsize=18)\n",
    "#fig.suptitle('BraliBase filterd APSI < 70', fontsize=20)\n",
    "fig.suptitle(plot_title, fontsize=20)"
   ]
  },
  {
   "cell_type": "code",
   "execution_count": null,
   "metadata": {
    "collapsed": false
   },
   "outputs": [],
   "source": [
    "%matplotlib inline\n",
    "fig = plt.figure(figsize=(10,8))\n",
    "ax = fig.gca()# define axis\n",
    "fig, axes = joypy.joyplot(df_plot_spec_neu, ax=ax)\n",
    "\n",
    "#ax.set_title('Locarna scors for different structure weights')\n",
    "#ax.set_xlabel('structure weight')\n",
    "#ax.set_ylabel('locarna score')\n",
    "#fig.suptitle('Distriburtion of specificity (context)', fontsize=18)\n",
    "#fig.suptitle('BraliBase filterd APSI < 70', fontsize=20)\n",
    "fig.suptitle('Full BraliBase', fontsize=20)"
   ]
  },
  {
   "cell_type": "code",
   "execution_count": null,
   "metadata": {
    "collapsed": false
   },
   "outputs": [],
   "source": [
    "sw_list = ['10','100','150','200','250','350']\n",
    "df_plot_sens, df_plot_spec = create_statisics_df(df_dict_shuffled_seq, sw_list)\n",
    "df_plot, df_emty = create_statisics_df(df_dict_shuffled_seq, sw_list, False)"
   ]
  },
  {
   "cell_type": "code",
   "execution_count": null,
   "metadata": {
    "collapsed": false
   },
   "outputs": [],
   "source": [
    "%matplotlib inline\n",
    "#fig = plt.figure(figsize=(10,8))\n",
    "#ax = fig.gca()# define axis\n",
    "fig, axes = joypy.joyplot(df_plot_sens)\n",
    "\n",
    "#ax.set_title('Locarna scors for different structure weights')\n",
    "#ax.set_xlabel('structure weight')\n",
    "#ax.set_ylabel('locarna score')\n",
    "fig.suptitle('Distriburtion of sensitivity (RNA)')"
   ]
  },
  {
   "cell_type": "code",
   "execution_count": null,
   "metadata": {
    "collapsed": false
   },
   "outputs": [],
   "source": [
    "%matplotlib inline\n",
    "#fig = plt.figure(figsize=(10,8))\n",
    "#ax = fig.gca()# define axis\n",
    "fig, axes = joypy.joyplot(df_plot_spec)\n",
    "\n",
    "#ax.set_title('Locarna scors for different structure weights')\n",
    "#ax.set_xlabel('structure weight')\n",
    "#ax.set_ylabel('locarna score')\n",
    "fig.suptitle('Distriburtion of specificity (context)')"
   ]
  },
  {
   "cell_type": "code",
   "execution_count": null,
   "metadata": {
    "collapsed": true
   },
   "outputs": [],
   "source": []
  }
 ],
 "metadata": {
  "kernelspec": {
   "display_name": "Python 2",
   "language": "python",
   "name": "python2"
  },
  "language_info": {
   "codemirror_mode": {
    "name": "ipython",
    "version": 2
   },
   "file_extension": ".py",
   "mimetype": "text/x-python",
   "name": "python",
   "nbconvert_exporter": "python",
   "pygments_lexer": "ipython2",
   "version": "2.7.12"
  }
 },
 "nbformat": 4,
 "nbformat_minor": 2
}
