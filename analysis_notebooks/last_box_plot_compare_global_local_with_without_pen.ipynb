{
 "cells": [
  {
   "cell_type": "code",
   "execution_count": 1,
   "metadata": {},
   "outputs": [],
   "source": [
    "# load data:\n",
    "import pandas as pd\n",
    "import numpy as np\n",
    "import matplotlib.pyplot as plt\n",
    "import seaborn as sns"
   ]
  },
  {
   "cell_type": "code",
   "execution_count": 2,
   "metadata": {},
   "outputs": [],
   "source": [
    "# load data\n",
    "data_dir =  \"/home/muellert/Dokumente/locarna_parameteropt/Data/20181221_globla_optimized_param_with_global_locarna/\"\n",
    "plot_dir_paper = '/home/muellert/Dokumente/locarna_parameteropt/plots/20181031_plots_for_paper/'"
   ]
  },
  {
   "cell_type": "code",
   "execution_count": 3,
   "metadata": {},
   "outputs": [],
   "source": [
    "df_local_pen15_sw200_optPrarm = pd.read_csv(data_dir + '/df_local_pen15_sw200_optPrarm', sep='\\t')\n",
    "df_local_sw200_pen0_defParam = pd.read_csv(data_dir + '/df_local_sw200_pen0_defParam', sep='\\t')\n",
    "\n",
    "df_global_pen0_sw200_optPrarm = pd.read_csv(data_dir + '/20190108_global_locarna_run_k2_Bralibase_pen0_SW200_optm_param', sep='\\t')\n",
    "df_global_sw200_pen15_optParam = pd.read_csv(data_dir + '/20190108_global_locarna_run_k2_Bralibase_pen15_SW200_optm_param', sep='\\t')\n",
    "\n",
    "df_global_sw200_pen0_defParam = pd.read_csv(data_dir + '/20181220_global_locarna_run_k2_Bralibase_pen_0_SW200_def_param_cut.log', sep='\\t')\n"
   ]
  },
  {
   "cell_type": "code",
   "execution_count": 4,
   "metadata": {},
   "outputs": [
    {
     "name": "stdout",
     "output_type": "stream",
     "text": [
      "<class 'pandas.core.frame.DataFrame'>\n",
      "RangeIndex: 8976 entries, 0 to 8975\n",
      "Data columns (total 16 columns):\n",
      "Tool               8976 non-null object\n",
      "APSI               8976 non-null int64\n",
      "SPI                8976 non-null int64\n",
      "SPS                8976 non-null float64\n",
      "locarnascore       8976 non-null int64\n",
      "sum_seq_length     8976 non-null int64\n",
      "structureWeight    8976 non-null int64\n",
      "min-prob           8976 non-null float64\n",
      "BPP(pair)          8976 non-null int64\n",
      "BPP(prog)          8976 non-null int64\n",
      "usrTime            8976 non-null float64\n",
      "SysTime            8976 non-null float64\n",
      "RealTime           8976 non-null float64\n",
      "name               8976 non-null object\n",
      "mlocarnaCall       8976 non-null object\n",
      "spsmax             8976 non-null float64\n",
      "dtypes: float64(6), int64(7), object(3)\n",
      "memory usage: 1.1+ MB\n",
      "<class 'pandas.core.frame.DataFrame'>\n",
      "RangeIndex: 8976 entries, 0 to 8975\n",
      "Data columns (total 16 columns):\n",
      "Tool               8976 non-null object\n",
      "APSI               8976 non-null int64\n",
      "SPI                8976 non-null int64\n",
      "SPS                8976 non-null float64\n",
      "locarnascore       8976 non-null int64\n",
      "sum_seq_length     8976 non-null int64\n",
      "structureWeight    8976 non-null int64\n",
      "min-prob           8976 non-null float64\n",
      "BPP(pair)          8976 non-null int64\n",
      "BPP(prog)          8976 non-null int64\n",
      "usrTime            8976 non-null float64\n",
      "SysTime            8976 non-null float64\n",
      "RealTime           8976 non-null float64\n",
      "name               8976 non-null object\n",
      "mlocarnaCall       8976 non-null object\n",
      "spsmax             8976 non-null float64\n",
      "dtypes: float64(6), int64(7), object(3)\n",
      "memory usage: 1.1+ MB\n"
     ]
    }
   ],
   "source": [
    "df_global_sw200_pen0_defParam['spsmax'] = df_global_sw200_pen0_defParam['SPS']\n",
    "df_global_sw200_pen0_defParam.info()\n",
    "\n",
    "\n",
    "df_global_pen0_sw200_optPrarm['spsmax'] = df_global_pen0_sw200_optPrarm['SPS']\n",
    "df_global_pen0_sw200_optPrarm.info()"
   ]
  },
  {
   "cell_type": "code",
   "execution_count": 5,
   "metadata": {},
   "outputs": [],
   "source": [
    "#df_local_pen15_sw200_optPrarm.info()\n"
   ]
  },
  {
   "cell_type": "code",
   "execution_count": 6,
   "metadata": {},
   "outputs": [],
   "source": [
    "df_local_opt = pd.concat([df_local_pen15_sw200_optPrarm['Filename'], df_local_pen15_sw200_optPrarm['sps'], df_local_pen15_sw200_optPrarm['spsmax'], df_local_pen15_sw200_optPrarm['call']], axis=1, keys=['Filename', 'SPS', 'maxSPS', 'call'])\n",
    "df_global = pd.concat([df_global_pen0_sw200_optPrarm['name'], df_global_pen0_sw200_optPrarm['SPS'], df_global_pen0_sw200_optPrarm['spsmax'], df_global_pen0_sw200_optPrarm['mlocarnaCall']], axis=1, keys=['Filename', 'SPS', 'maxSPS', 'call'])\n",
    "df_local_def = pd.concat([df_local_sw200_pen0_defParam['Filename'], df_local_sw200_pen0_defParam['sps'], df_local_sw200_pen0_defParam['spsmax'], df_local_sw200_pen0_defParam['call']], axis=1, keys=['Filename', 'SPS', 'maxSPS', 'call'])\n"
   ]
  },
  {
   "cell_type": "code",
   "execution_count": 7,
   "metadata": {},
   "outputs": [
    {
     "name": "stdout",
     "output_type": "stream",
     "text": [
      "<class 'pandas.core.frame.DataFrame'>\n",
      "RangeIndex: 6226 entries, 0 to 6225\n",
      "Data columns (total 4 columns):\n",
      "Filename    6226 non-null object\n",
      "SPS         6226 non-null float64\n",
      "maxSPS      6226 non-null float64\n",
      "call        6226 non-null object\n",
      "dtypes: float64(2), object(2)\n",
      "memory usage: 194.6+ KB\n"
     ]
    }
   ],
   "source": [
    "df_local_opt.info()"
   ]
  },
  {
   "cell_type": "code",
   "execution_count": 8,
   "metadata": {},
   "outputs": [
    {
     "name": "stdout",
     "output_type": "stream",
     "text": [
      "<class 'pandas.core.frame.DataFrame'>\n",
      "RangeIndex: 8976 entries, 0 to 8975\n",
      "Data columns (total 4 columns):\n",
      "Filename    8976 non-null object\n",
      "SPS         8976 non-null float64\n",
      "maxSPS      8976 non-null float64\n",
      "call        8976 non-null object\n",
      "dtypes: float64(2), object(2)\n",
      "memory usage: 280.6+ KB\n"
     ]
    }
   ],
   "source": [
    "df_global.info()"
   ]
  },
  {
   "cell_type": "code",
   "execution_count": 9,
   "metadata": {},
   "outputs": [
    {
     "name": "stdout",
     "output_type": "stream",
     "text": [
      "<class 'pandas.core.frame.DataFrame'>\n",
      "RangeIndex: 6226 entries, 0 to 6225\n",
      "Data columns (total 4 columns):\n",
      "Filename    6226 non-null object\n",
      "SPS         6226 non-null float64\n",
      "maxSPS      6226 non-null float64\n",
      "call        6226 non-null object\n",
      "dtypes: float64(2), object(2)\n",
      "memory usage: 194.6+ KB\n"
     ]
    }
   ],
   "source": [
    "df_local_def.info()"
   ]
  },
  {
   "cell_type": "code",
   "execution_count": 10,
   "metadata": {},
   "outputs": [],
   "source": [
    "def generate_one_df(df_1, df_2, df_3, id_1='shuffled_RNA', id_2='unshuffled_RNA', id_3='unshuffled_RNA'):\n",
    "    \n",
    "    df_1['seq'] = id_1\n",
    "    df_2['seq'] = id_2\n",
    "    df_3['seq'] = id_3\n",
    "\n",
    "    \n",
    "    frames = [df_1, df_2, df_3]\n",
    "    df_concat = pd.concat(frames)\n",
    "    \n",
    "    return df_concat"
   ]
  },
  {
   "cell_type": "code",
   "execution_count": 11,
   "metadata": {},
   "outputs": [
    {
     "name": "stderr",
     "output_type": "stream",
     "text": [
      "/home/muellert/miniconda3/envs/ploting/lib/python2.7/site-packages/ipykernel_launcher.py:9: FutureWarning: Sorting because non-concatenation axis is not aligned. A future version\n",
      "of pandas will change to not sort by default.\n",
      "\n",
      "To accept the future behavior, pass 'sort=True'.\n",
      "\n",
      "To retain the current behavior and silence the warning, pass sort=False\n",
      "\n",
      "  if __name__ == '__main__':\n"
     ]
    }
   ],
   "source": [
    "# Generate mearged df's\n",
    "\n",
    "# df for global parameter optimization improvement\n",
    "df_global_optimized = generate_one_df(df_global_sw200_pen0_defParam, df_global_pen0_sw200_optPrarm, df_global_sw200_pen15_optParam, id_1='Global default', id_2='Global optimized', id_3='Global optimized pen 15')\n",
    "\n",
    "# df for comparing local optimized to global optimized\n",
    "#df_local_global_comp = generate_one_df(df_local_def, df_local_opt, df_global, id_1='Local default', id_2='Local optimized pen15', id_3='global optimized')\n"
   ]
  },
  {
   "cell_type": "code",
   "execution_count": 12,
   "metadata": {},
   "outputs": [],
   "source": [
    "# df for comparing local optimized to global optimized\n",
    "df_local_global_comp = generate_one_df(df_local_def, df_local_opt, df_global, id_1='Local def', id_2='Local opt pen15', id_3='Global opt')\n"
   ]
  },
  {
   "cell_type": "code",
   "execution_count": 13,
   "metadata": {},
   "outputs": [
    {
     "data": {
      "image/png": "[encoded data removed]",
      "text/plain": [
       "<Figure size 259.2x144 with 1 Axes>"
      ]
     },
     "metadata": {},
     "output_type": "display_data"
    }
   ],
   "source": [
    "%matplotlib inline\n",
    "import matplotlib.pyplot as plt\n",
    "import seaborn as sns\n",
    "\n",
    "sns.set(style=\"darkgrid\", font='sans-serif', font_scale=0.73)\n",
    "col_dims = (3.6, 2.0) # one\n",
    "fig, ax = plt.subplots(figsize=col_dims)\n",
    "#sns.set_context(\"paper\")\n",
    "\n",
    "#figsize=(8,4)width=0.5\n",
    "\n",
    "sns.boxplot(x=\"seq\", y=\"SPS\", data=df_global_optimized,  ax=ax, width=0.4, color='white')\n",
    "#ax1.set_title(plot_title, fontsize=18)\n",
    "ax.set_xlabel('')\n",
    "ax.set_ylabel('SPS')\n",
    "#plt.legend(bbox_to_anchor=(1.05, 1), loc=2, borderaxespad=0.)\n",
    "\n",
    "\n",
    "\n",
    "fig.savefig(plot_dir_paper + 'boxplot_compare_global_defParam_SW200_and_optParam.pdf', format='pdf', bbox_inches='tight')"
   ]
  },
  {
   "cell_type": "code",
   "execution_count": 14,
   "metadata": {},
   "outputs": [
    {
     "data": {
      "image/png": "[encoded data removed]",
      "text/plain": [
       "<Figure size 259.2x144 with 1 Axes>"
      ]
     },
     "metadata": {},
     "output_type": "display_data"
    }
   ],
   "source": [
    "%matplotlib inline\n",
    "import matplotlib.pyplot as plt\n",
    "import seaborn as sns\n",
    "\n",
    "sns.set(style=\"darkgrid\", font='sans-serif', font_scale=0.73)\n",
    "col_dims = (3.6, 2.0) # one\n",
    "fig, ax = plt.subplots(figsize=col_dims)\n",
    "#sns.set_context(\"paper\")\n",
    "\n",
    "#figsize=(8,4)width=0.5\n",
    "\n",
    "sns.boxplot(x=\"seq\", y=\"maxSPS\", data=df_local_global_comp,  ax=ax, width=0.4, color='white')\n",
    "#ax1.set_title(plot_title, fontsize=18)\n",
    "ax.set_xlabel('')\n",
    "ax.set_ylabel('SPS / maxSPS')\n",
    "#plt.legend(bbox_to_anchor=(1.05, 1), loc=2, borderaxespad=0.)\n",
    "\n",
    "\n",
    "\n",
    "fig.savefig(plot_dir_paper + 'boxplot_compare_defParam_SW200_and_optParam_SW200_pen15_global_optimized_maxSPS.pdf', format='pdf', bbox_inches='tight')"
   ]
  },
  {
   "cell_type": "code",
   "execution_count": 15,
   "metadata": {},
   "outputs": [
    {
     "data": {
      "image/png": "[encoded data removed]",
      "text/plain": [
       "<Figure size 259.2x144 with 1 Axes>"
      ]
     },
     "metadata": {},
     "output_type": "display_data"
    }
   ],
   "source": [
    "%matplotlib inline\n",
    "import matplotlib.pyplot as plt\n",
    "import seaborn as sns\n",
    "\n",
    "sns.set(style=\"darkgrid\", font='sans-serif', font_scale=0.73)\n",
    "col_dims = (3.6, 2.0) # one\n",
    "fig, ax = plt.subplots(figsize=col_dims)\n",
    "#sns.set_context(\"paper\")\n",
    "\n",
    "#figsize=(8,4)width=0.5\n",
    "\n",
    "sns.boxplot(x=\"seq\", y=\"SPS\", data=df_local_global_comp,  ax=ax, width=0.4, color='white')\n",
    "#ax1.set_title(plot_title, fontsize=18)\n",
    "ax.set_xlabel('')\n",
    "ax.set_ylabel('SPS')\n",
    "#plt.legend(bbox_to_anchor=(1.05, 1), loc=2, borderaxespad=0.)\n",
    "\n",
    "\n",
    "\n",
    "fig.savefig(plot_dir_paper + 'boxplot_compare_defParam_SW200_and_optParam_SW200_pen15_global_optimized_SPS.pdf', format='pdf', bbox_inches='tight')"
   ]
  },
  {
   "cell_type": "code",
   "execution_count": 16,
   "metadata": {},
   "outputs": [
    {
     "data": {
      "text/plain": [
       "0.94999999999999996"
      ]
     },
     "execution_count": 16,
     "metadata": {},
     "output_type": "execute_result"
    }
   ],
   "source": [
    "df_global_pen0_sw200_optPrarm[\"SPS\"].median()\n",
    "#df_global_pen0_sw200_optPrarm[\"SPS\"].mean()"
   ]
  },
  {
   "cell_type": "code",
   "execution_count": 17,
   "metadata": {},
   "outputs": [
    {
     "data": {
      "text/plain": [
       "0.93999999999999995"
      ]
     },
     "execution_count": 17,
     "metadata": {},
     "output_type": "execute_result"
    }
   ],
   "source": [
    "df_global_sw200_pen0_defParam[\"SPS\"].median()\n",
    "#df_global_sw200_pen0_defParam[\"SPS\"].mean()\n"
   ]
  },
  {
   "cell_type": "code",
   "execution_count": null,
   "metadata": {},
   "outputs": [],
   "source": []
  }
 ],
 "metadata": {
  "kernelspec": {
   "display_name": "Python 2",
   "language": "python",
   "name": "python2"
  },
  "language_info": {
   "codemirror_mode": {
    "name": "ipython",
    "version": 2
   },
   "file_extension": ".py",
   "mimetype": "text/x-python",
   "name": "python",
   "nbconvert_exporter": "python",
   "pygments_lexer": "ipython2",
   "version": "2.7.15"
  }
 },
 "nbformat": 4,
 "nbformat_minor": 2
}
